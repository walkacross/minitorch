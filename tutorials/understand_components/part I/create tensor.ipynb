{
 "cells": [
  {
   "cell_type": "code",
   "execution_count": 1,
   "id": "a7257222",
   "metadata": {},
   "outputs": [],
   "source": [
    "#pragma cling add_include_path(\"/home/sz/Documents/workspace/third_party/minitorch\")\n",
    "#pragma cling add_library_path(\"/home/sz/Documents/workspace/third_party/minitorch/build/c10\")\n",
    "#pragma cling load(\"c10\")"
   ]
  },
  {
   "cell_type": "code",
   "execution_count": 2,
   "id": "d639a880",
   "metadata": {},
   "outputs": [],
   "source": [
    "#pragma cling add_include_path(\"/home/sz/Documents/workspace/third_party/minitorch/aten/src\")\n",
    "#pragma cling add_library_path(\"/home/sz/Documents/workspace/third_party/minitorch/build/aten/src/ATen\")\n",
    "#pragma cling load(\"aten\")"
   ]
  },
  {
   "cell_type": "code",
   "execution_count": 3,
   "id": "a068351b",
   "metadata": {},
   "outputs": [],
   "source": [
    "#include <vector>\n",
    "#include <iostream>\n",
    "#include <optional>"
   ]
  },
  {
   "cell_type": "code",
   "execution_count": 4,
   "id": "f83355ee",
   "metadata": {},
   "outputs": [
    {
     "name": "stderr",
     "output_type": "stream",
     "text": [
      "In file included from input_line_10:1:\n",
      "In file included from /home/sz/Documents/workspace/third_party/minitorch/c10/core/TensorImpl.h:3:\n",
      "In file included from /home/sz/Documents/workspace/third_party/minitorch/c10/core/Storage.h:3:\n",
      "In file included from /home/sz/Documents/workspace/third_party/minitorch/c10/core/StorageImpl.h:4:\n",
      "In file included from /home/sz/Documents/workspace/third_party/minitorch/c10/core/SymInt.h:3:\n",
      "\u001b[1m/home/sz/Documents/workspace/third_party/minitorch/c10/core/SymNodeImpl.h:26:5: \u001b[0m\u001b[0;1;31merror: \u001b[0m\u001b[1mcontrol reaches end of non-void function [-Werror,-Wreturn-type]\u001b[0m\n",
      "    }\n",
      "\u001b[0;1;32m    ^\n",
      "\u001b[0m\u001b[1m/home/sz/Documents/workspace/third_party/minitorch/c10/core/SymNodeImpl.h:28:5: \u001b[0m\u001b[0;1;31merror: \u001b[0m\u001b[1mcontrol reaches end of non-void function [-Werror,-Wreturn-type]\u001b[0m\n",
      "    };\n",
      "\u001b[0;1;32m    ^\n",
      "\u001b[0m\u001b[1m/home/sz/Documents/workspace/third_party/minitorch/c10/core/SymNodeImpl.h:30:5: \u001b[0m\u001b[0;1;31merror: \u001b[0m\u001b[1mcontrol reaches end of non-void function [-Werror,-Wreturn-type]\u001b[0m\n",
      "    };\n",
      "\u001b[0;1;32m    ^\n",
      "\u001b[0m\u001b[1m/home/sz/Documents/workspace/third_party/minitorch/c10/core/SymNodeImpl.h:32:5: \u001b[0m\u001b[0;1;31merror: \u001b[0m\u001b[1mcontrol reaches end of non-void function [-Werror,-Wreturn-type]\u001b[0m\n",
      "    };\n",
      "\u001b[0;1;32m    ^\n",
      "\u001b[0m\u001b[1m/home/sz/Documents/workspace/third_party/minitorch/c10/core/SymNodeImpl.h:34:5: \u001b[0m\u001b[0;1;31merror: \u001b[0m\u001b[1mcontrol reaches end of non-void function [-Werror,-Wreturn-type]\u001b[0m\n",
      "    };\n",
      "\u001b[0;1;32m    ^\n",
      "\u001b[0m\u001b[1m/home/sz/Documents/workspace/third_party/minitorch/c10/core/SymNodeImpl.h:36:5: \u001b[0m\u001b[0;1;31merror: \u001b[0m\u001b[1mcontrol reaches end of non-void function [-Werror,-Wreturn-type]\u001b[0m\n",
      "    };\n",
      "\u001b[0;1;32m    ^\n",
      "\u001b[0m\u001b[1m/home/sz/Documents/workspace/third_party/minitorch/c10/core/SymNodeImpl.h:38:5: \u001b[0m\u001b[0;1;31merror: \u001b[0m\u001b[1mcontrol reaches end of non-void function [-Werror,-Wreturn-type]\u001b[0m\n",
      "    };\n",
      "\u001b[0;1;32m    ^\n",
      "\u001b[0m\u001b[1m/home/sz/Documents/workspace/third_party/minitorch/c10/core/SymNodeImpl.h:40:5: \u001b[0m\u001b[0;1;31merror: \u001b[0m\u001b[1mcontrol reaches end of non-void function [-Werror,-Wreturn-type]\u001b[0m\n",
      "    };\n",
      "\u001b[0;1;32m    ^\n",
      "\u001b[0m\u001b[1m/home/sz/Documents/workspace/third_party/minitorch/c10/core/SymNodeImpl.h:42:5: \u001b[0m\u001b[0;1;31merror: \u001b[0m\u001b[1mcontrol reaches end of non-void function [-Werror,-Wreturn-type]\u001b[0m\n",
      "    };\n",
      "\u001b[0;1;32m    ^\n",
      "\u001b[0m\u001b[1m/home/sz/Documents/workspace/third_party/minitorch/c10/core/SymNodeImpl.h:44:5: \u001b[0m\u001b[0;1;31merror: \u001b[0m\u001b[1mcontrol reaches end of non-void function [-Werror,-Wreturn-type]\u001b[0m\n",
      "    };\n",
      "\u001b[0;1;32m    ^\n",
      "\u001b[0m\u001b[1m/home/sz/Documents/workspace/third_party/minitorch/c10/core/SymNodeImpl.h:46:5: \u001b[0m\u001b[0;1;31merror: \u001b[0m\u001b[1mcontrol reaches end of non-void function [-Werror,-Wreturn-type]\u001b[0m\n",
      "    };\n",
      "\u001b[0;1;32m    ^\n",
      "\u001b[0m\u001b[1m/home/sz/Documents/workspace/third_party/minitorch/c10/core/SymNodeImpl.h:48:5: \u001b[0m\u001b[0;1;31merror: \u001b[0m\u001b[1mcontrol reaches end of non-void function [-Werror,-Wreturn-type]\u001b[0m\n",
      "    };\n",
      "\u001b[0;1;32m    ^\n",
      "\u001b[0m\u001b[1m/home/sz/Documents/workspace/third_party/minitorch/c10/core/SymNodeImpl.h:50:5: \u001b[0m\u001b[0;1;31merror: \u001b[0m\u001b[1mcontrol reaches end of non-void function [-Werror,-Wreturn-type]\u001b[0m\n",
      "    };\n",
      "\u001b[0;1;32m    ^\n",
      "\u001b[0m\u001b[1m/home/sz/Documents/workspace/third_party/minitorch/c10/core/SymNodeImpl.h:52:5: \u001b[0m\u001b[0;1;31merror: \u001b[0m\u001b[1mcontrol reaches end of non-void function [-Werror,-Wreturn-type]\u001b[0m\n",
      "    };\n",
      "\u001b[0;1;32m    ^\n",
      "\u001b[0m\u001b[1m/home/sz/Documents/workspace/third_party/minitorch/c10/core/SymNodeImpl.h:54:5: \u001b[0m\u001b[0;1;31merror: \u001b[0m\u001b[1mcontrol reaches end of non-void function [-Werror,-Wreturn-type]\u001b[0m\n",
      "    };\n",
      "\u001b[0;1;32m    ^\n",
      "\u001b[0m\u001b[1m/home/sz/Documents/workspace/third_party/minitorch/c10/core/SymNodeImpl.h:56:5: \u001b[0m\u001b[0;1;31merror: \u001b[0m\u001b[1mcontrol reaches end of non-void function [-Werror,-Wreturn-type]\u001b[0m\n",
      "    }\n",
      "\u001b[0;1;32m    ^\n",
      "\u001b[0m\u001b[1m/home/sz/Documents/workspace/third_party/minitorch/c10/core/SymNodeImpl.h:58:5: \u001b[0m\u001b[0;1;31merror: \u001b[0m\u001b[1mcontrol reaches end of non-void function [-Werror,-Wreturn-type]\u001b[0m\n",
      "    }\n",
      "\u001b[0;1;32m    ^\n",
      "\u001b[0m\u001b[1m/home/sz/Documents/workspace/third_party/minitorch/c10/core/SymNodeImpl.h:60:5: \u001b[0m\u001b[0;1;31merror: \u001b[0m\u001b[1mcontrol reaches end of non-void function [-Werror,-Wreturn-type]\u001b[0m\n",
      "    }\n",
      "\u001b[0;1;32m    ^\n",
      "\u001b[0m\u001b[1m/home/sz/Documents/workspace/third_party/minitorch/c10/core/SymNodeImpl.h:62:5: \u001b[0m\u001b[0;1;31merror: \u001b[0m\u001b[1mcontrol reaches end of non-void function [-Werror,-Wreturn-type]\u001b[0m\n",
      "    }\n",
      "\u001b[0;1;32m    ^\n",
      "\u001b[0m\u001b[1m/home/sz/Documents/workspace/third_party/minitorch/c10/core/SymNodeImpl.h:64:5: \u001b[0m\u001b[0;1;31merror: \u001b[0m\u001b[1mcontrol reaches end of non-void function [-Werror,-Wreturn-type]\u001b[0m\n",
      "    }\n",
      "\u001b[0;1;32m    ^\n",
      "\u001b[0m\u001b[1m/home/sz/Documents/workspace/third_party/minitorch/c10/core/SymNodeImpl.h:66:5: \u001b[0m\u001b[0;1;31merror: \u001b[0m\u001b[1mcontrol reaches end of non-void function [-Werror,-Wreturn-type]\u001b[0m\n",
      "    }\n",
      "\u001b[0;1;32m    ^\n",
      "\u001b[0m\u001b[1m/home/sz/Documents/workspace/third_party/minitorch/c10/core/SymNodeImpl.h:68:5: \u001b[0m\u001b[0;1;31merror: \u001b[0m\u001b[1mcontrol reaches end of non-void function [-Werror,-Wreturn-type]\u001b[0m\n",
      "    }\n",
      "\u001b[0;1;32m    ^\n",
      "\u001b[0m\u001b[1m/home/sz/Documents/workspace/third_party/minitorch/c10/core/SymNodeImpl.h:70:5: \u001b[0m\u001b[0;1;31merror: \u001b[0m\u001b[1mcontrol reaches end of non-void function [-Werror,-Wreturn-type]\u001b[0m\n",
      "    }\n",
      "\u001b[0;1;32m    ^\n",
      "\u001b[0m\u001b[1m/home/sz/Documents/workspace/third_party/minitorch/c10/core/SymNodeImpl.h:72:5: \u001b[0m\u001b[0;1;31merror: \u001b[0m\u001b[1mcontrol reaches end of non-void function [-Werror,-Wreturn-type]\u001b[0m\n",
      "    }\n",
      "\u001b[0;1;32m    ^\n",
      "\u001b[0m\u001b[1m/home/sz/Documents/workspace/third_party/minitorch/c10/core/SymNodeImpl.h:74:5: \u001b[0m\u001b[0;1;31merror: \u001b[0m\u001b[1mcontrol reaches end of non-void function [-Werror,-Wreturn-type]\u001b[0m\n",
      "    }\n",
      "\u001b[0;1;32m    ^\n",
      "\u001b[0m\u001b[1m/home/sz/Documents/workspace/third_party/minitorch/c10/core/SymNodeImpl.h:76:5: \u001b[0m\u001b[0;1;31merror: \u001b[0m\u001b[1mcontrol reaches end of non-void function [-Werror,-Wreturn-type]\u001b[0m\n",
      "    }\n",
      "\u001b[0;1;32m    ^\n",
      "\u001b[0m\u001b[1m/home/sz/Documents/workspace/third_party/minitorch/c10/core/SymNodeImpl.h:78:5: \u001b[0m\u001b[0;1;31merror: \u001b[0m\u001b[1mcontrol reaches end of non-void function [-Werror,-Wreturn-type]\u001b[0m\n",
      "    }\n",
      "\u001b[0;1;32m    ^\n",
      "\u001b[0m\u001b[1m/home/sz/Documents/workspace/third_party/minitorch/c10/core/SymNodeImpl.h:80:5: \u001b[0m\u001b[0;1;31merror: \u001b[0m\u001b[1mcontrol reaches end of non-void function [-Werror,-Wreturn-type]\u001b[0m\n",
      "    }\n",
      "\u001b[0;1;32m    ^\n",
      "\u001b[0m\u001b[1m/home/sz/Documents/workspace/third_party/minitorch/c10/core/SymNodeImpl.h:82:5: \u001b[0m\u001b[0;1;31merror: \u001b[0m\u001b[1mcontrol reaches end of non-void function [-Werror,-Wreturn-type]\u001b[0m\n",
      "    }\n",
      "\u001b[0;1;32m    ^\n",
      "\u001b[0mIn file included from input_line_10:1:\n",
      "In file included from /home/sz/Documents/workspace/third_party/minitorch/c10/core/TensorImpl.h:6:\n",
      "\u001b[1m/home/sz/Documents/workspace/third_party/minitorch/c10/core/MemoryFormat.h:58:1: \u001b[0m\u001b[0;1;35mwarning: \u001b[0m\u001b[1mcontrol may reach end of non-void function [-Wreturn-type]\u001b[0m\n",
      "}\n",
      "\u001b[0;1;32m^\n",
      "\u001b[0mIn file included from input_line_10:1:\n",
      "In file included from /home/sz/Documents/workspace/third_party/minitorch/c10/core/TensorImpl.h:7:\n",
      "In file included from /home/sz/Documents/workspace/third_party/minitorch/c10/util/typeid.h:3:\n",
      "\u001b[1m/home/sz/Documents/workspace/third_party/minitorch/c10/core/ScalarType.h:42:17: \u001b[0m\u001b[0;1;35mwarning: \u001b[0m\u001b[1menumeration values 'Undefined' and 'NumOptions' not handled in switch [-Wswitch]\u001b[0m\n",
      "        switch (t) {\n",
      "\u001b[0;1;32m                ^\n",
      "\u001b[0m\u001b[1m/home/sz/Documents/workspace/third_party/minitorch/c10/core/ScalarType.h:46:9: \u001b[0m\u001b[0;1;35mwarning: \u001b[0m\u001b[1mcontrol may reach end of non-void function [-Wreturn-type]\u001b[0m\n",
      "        }\n",
      "\u001b[0;1;32m        ^\n",
      "\u001b[0mIn file included from input_line_10:1:\n",
      "In file included from /home/sz/Documents/workspace/third_party/minitorch/c10/core/TensorImpl.h:6:\n",
      "\u001b[1m/home/sz/Documents/workspace/third_party/minitorch/c10/core/MemoryFormat.h:80:5: \u001b[0m\u001b[0;1;35mwarning: \u001b[0m\u001b[1mcontrol may reach end of non-void function [-Wreturn-type]\u001b[0m\n",
      "    }\n",
      "\u001b[0;1;32m    ^\n",
      "\u001b[0m\u001b[1m/home/sz/Documents/workspace/third_party/minitorch/c10/core/MemoryFormat.h:83:16: \u001b[0m\u001b[0;1;30mnote: \u001b[0min instantiation of function template specialization\n",
      "      'c10::get_channels_last_strides_2d<long>' requested here\u001b[0m\n",
      "        return get_channels_last_strides_2d<int64_t>(sizes);\n",
      "\u001b[0;1;32m               ^\n"
     ]
    },
    {
     "name": "stderr",
     "output_type": "stream",
     "text": [
      "\u001b[0m\u001b[1m/home/sz/Documents/workspace/third_party/minitorch/c10/core/MemoryFormat.h:106:5: \u001b[0m\u001b[0;1;35mwarning: \u001b[0m\u001b[1mcontrol may reach end of non-void function [-Wreturn-type]\u001b[0m\n",
      "    }\n",
      "\u001b[0;1;32m    ^\n",
      "\u001b[0m\u001b[1m/home/sz/Documents/workspace/third_party/minitorch/c10/core/MemoryFormat.h:109:16: \u001b[0m\u001b[0;1;30mnote: \u001b[0min instantiation of function template specialization\n",
      "      'c10::get_channels_last_strides_3d<long>' requested here\u001b[0m\n",
      "        return get_channels_last_strides_3d<int64_t>(sizes);\n",
      "\u001b[0;1;32m               ^\n",
      "\u001b[0m"
     ]
    }
   ],
   "source": [
    "#include <c10/core/TensorImpl.h>"
   ]
  },
  {
   "cell_type": "code",
   "execution_count": 5,
   "id": "cac3634f",
   "metadata": {},
   "outputs": [],
   "source": [
    "std::vector<float> flatted_data_vector1d = {1,2,3,4,5,6,7,8,9,10,11,12,13,14,15,16,17,18};\n",
    "c10:: Device device{c10::DeviceType::CPU};\n",
    "c10::DataPtr data_ptr{};\n",
    "data_ptr = c10::DataPtr{flatted_data_vector1d.data(), device};"
   ]
  },
  {
   "cell_type": "code",
   "execution_count": 6,
   "id": "7b6ae284",
   "metadata": {},
   "outputs": [],
   "source": [
    "// step2: create storage\n",
    "// https://github.com/pytorch/pytorch/blob/master/c10/core/Storage.h\n",
    "std::size_t size_bytes =72;\n",
    "c10::Storage storage{/*use_byte_size*/c10::Storage::use_byte_size_t{}, /*size_bytes*/size_bytes, /*data_ptr*/std::move(data_ptr),nullptr, false};"
   ]
  },
  {
   "cell_type": "code",
   "execution_count": 7,
   "id": "0806ff40",
   "metadata": {},
   "outputs": [
    {
     "name": "stderr",
     "output_type": "stream",
     "text": [
      "\u001b[1minput_line_13:3:25: \u001b[0m\u001b[0;1;35mwarning: \u001b[0m\u001b[1mbraces around scalar initializer [-Wbraced-scalar-init]\u001b[0m\n",
      "c10::DispatchKeySet ks {{k}};\n",
      "\u001b[0;1;32m                        ^~~\n",
      "\u001b[0m"
     ]
    },
    {
     "name": "stdout",
     "output_type": "stream",
     "text": [
      "DispatchKeySet(CPU)\n"
     ]
    }
   ],
   "source": [
    "c10::DispatchKey k = c10::DispatchKey::CPU;\n",
    "c10::DispatchKeySet ks {{k}};\n",
    "std::cout << ks << std::endl;"
   ]
  },
  {
   "cell_type": "code",
   "execution_count": 8,
   "id": "3e456f7b",
   "metadata": {},
   "outputs": [],
   "source": [
    "caffe2::TypeMeta float_dtype = caffe2::TypeMeta::Make<float>();"
   ]
  },
  {
   "cell_type": "code",
   "execution_count": 9,
   "id": "90f05a78",
   "metadata": {},
   "outputs": [],
   "source": [
    "c10::intrusive_ptr<c10::TensorImpl> impl_ptr = c10::make_intrusive<c10::TensorImpl>(std::move(storage),ks, float_dtype);"
   ]
  },
  {
   "cell_type": "code",
   "execution_count": 10,
   "id": "5b5f11da",
   "metadata": {},
   "outputs": [],
   "source": [
    "c10::IntArrayRef target_size{{3,6}};\n",
    "impl_ptr->set_sizes_contiguous(target_size);"
   ]
  },
  {
   "cell_type": "code",
   "execution_count": 11,
   "id": "df6d8265",
   "metadata": {},
   "outputs": [],
   "source": [
    "#include <ATen/core/TensorBase.h>"
   ]
  },
  {
   "cell_type": "code",
   "execution_count": 12,
   "id": "e593aa75",
   "metadata": {},
   "outputs": [],
   "source": [
    "at::TensorBase tensor_base(impl_ptr);"
   ]
  },
  {
   "cell_type": "code",
   "execution_count": 13,
   "id": "9cd6f7b2",
   "metadata": {},
   "outputs": [
    {
     "name": "stdout",
     "output_type": "stream",
     "text": [
      "[3, 6]\n"
     ]
    }
   ],
   "source": [
    "std::cout << tensor_base.sizes() << std::endl;"
   ]
  },
  {
   "cell_type": "code",
   "execution_count": 14,
   "id": "0b92e4b2",
   "metadata": {},
   "outputs": [
    {
     "name": "stdout",
     "output_type": "stream",
     "text": [
      "[6, 1]\n"
     ]
    }
   ],
   "source": [
    "std::cout << tensor_base.strides() << std::endl;"
   ]
  },
  {
   "cell_type": "code",
   "execution_count": 15,
   "id": "36e5d1a9",
   "metadata": {},
   "outputs": [],
   "source": [
    "#include <ATen/templates/TensorBody.h>"
   ]
  },
  {
   "cell_type": "code",
   "execution_count": 16,
   "id": "102bf2bd",
   "metadata": {},
   "outputs": [],
   "source": [
    "at::Tensor tensor_a(impl_ptr);"
   ]
  },
  {
   "cell_type": "code",
   "execution_count": 17,
   "id": "ce3e69ec",
   "metadata": {},
   "outputs": [
    {
     "name": "stdout",
     "output_type": "stream",
     "text": [
      "[3, 6]\n"
     ]
    }
   ],
   "source": [
    "std::cout << tensor_a.sizes() << std::endl;"
   ]
  },
  {
   "cell_type": "code",
   "execution_count": 18,
   "id": "3f803a60",
   "metadata": {},
   "outputs": [],
   "source": [
    "tensor_a.device();"
   ]
  },
  {
   "cell_type": "code",
   "execution_count": 19,
   "id": "7598b709",
   "metadata": {},
   "outputs": [],
   "source": [
    "#include <ATen/native/my_kernel.h>"
   ]
  },
  {
   "cell_type": "code",
   "execution_count": 20,
   "id": "c40e7a4d",
   "metadata": {},
   "outputs": [
    {
     "name": "stdout",
     "output_type": "stream",
     "text": [
      "my_kernel_cpu impl in CPU\n"
     ]
    }
   ],
   "source": [
    "at::my_kernel(tensor_a);"
   ]
  },
  {
   "cell_type": "code",
   "execution_count": 21,
   "id": "0f20d46c",
   "metadata": {},
   "outputs": [],
   "source": [
    "#include <ATen/native/TensorShape.h>"
   ]
  },
  {
   "cell_type": "code",
   "execution_count": 22,
   "id": "bca6b479",
   "metadata": {},
   "outputs": [
    {
     "name": "stderr",
     "output_type": "stream",
     "text": [
      "\u001b[1minput_line_28:3:17: \u001b[0m\u001b[0;1;35mwarning: \u001b[0m\u001b[1mtreating Unicode character as whitespace [-Wunicode-whitespace]\u001b[0m\n",
      "c10::IntArrayRef　new_stride{{3,1}};\n",
      "\u001b[0;1;32m                ^~\n",
      "\u001b[0m"
     ]
    }
   ],
   "source": [
    "c10::IntArrayRef new_target_size{{6,3}};\n",
    "c10::IntArrayRef　new_stride{{3,1}};"
   ]
  },
  {
   "cell_type": "code",
   "execution_count": 24,
   "id": "27fac718",
   "metadata": {},
   "outputs": [],
   "source": [
    "at::Tensor new_a = at::native::as_strided(tensor_a,new_target_size,new_stride, std::nullopt);"
   ]
  },
  {
   "cell_type": "code",
   "execution_count": 25,
   "id": "6ce35beb",
   "metadata": {},
   "outputs": [
    {
     "name": "stdout",
     "output_type": "stream",
     "text": [
      "[6, 3]\n"
     ]
    }
   ],
   "source": [
    "std::cout << new_a.sizes() << std::endl;"
   ]
  },
  {
   "cell_type": "code",
   "execution_count": 26,
   "id": "5de22239",
   "metadata": {},
   "outputs": [
    {
     "name": "stdout",
     "output_type": "stream",
     "text": [
      "[3, 1]\n"
     ]
    }
   ],
   "source": [
    "std::cout << new_a.strides() << std::endl;"
   ]
  }
 ],
 "metadata": {
  "kernelspec": {
   "display_name": "C++17",
   "language": "C++17",
   "name": "xcpp17"
  },
  "language_info": {
   "codemirror_mode": "text/x-c++src",
   "file_extension": ".cpp",
   "mimetype": "text/x-c++src",
   "name": "c++",
   "version": "17"
  }
 },
 "nbformat": 4,
 "nbformat_minor": 5
}
