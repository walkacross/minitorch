{
 "cells": [
  {
   "cell_type": "code",
   "execution_count": 1,
   "id": "f1f2addd",
   "metadata": {},
   "outputs": [],
   "source": [
    "#pragma cling add_include_path(\"/home/sz/Documents/workspace/third_party/minitorch\")\n",
    "#pragma cling add_library_path(\"/home/sz/Documents/workspace/third_party/minitorch/build/c10\")\n",
    "#pragma cling load(\"c10\")"
   ]
  },
  {
   "cell_type": "code",
   "execution_count": 2,
   "id": "86a736e5",
   "metadata": {},
   "outputs": [],
   "source": [
    "#include <c10/util/UniqueVoidPtr.h>"
   ]
  },
  {
   "cell_type": "code",
   "execution_count": 3,
   "id": "f8f30b9a",
   "metadata": {},
   "outputs": [],
   "source": [
    "#include <c10/core/Device.h>"
   ]
  },
  {
   "cell_type": "code",
   "execution_count": 4,
   "id": "3ee1f8d3",
   "metadata": {},
   "outputs": [],
   "source": [
    "#include <c10/core/Allocator.h>"
   ]
  },
  {
   "cell_type": "code",
   "execution_count": 5,
   "id": "a0adebba",
   "metadata": {},
   "outputs": [],
   "source": [
    "#include <vector>\n",
    "#include <iostream>"
   ]
  },
  {
   "cell_type": "markdown",
   "id": "11eb292c",
   "metadata": {},
   "source": [
    "## 1 create c10::DataPtr"
   ]
  },
  {
   "cell_type": "code",
   "execution_count": 6,
   "id": "a225bf7f",
   "metadata": {},
   "outputs": [
    {
     "name": "stdout",
     "output_type": "stream",
     "text": [
      "cpu\n"
     ]
    }
   ],
   "source": [
    "std::cout << c10::DeviceType::CPU << std::endl;"
   ]
  },
  {
   "cell_type": "code",
   "execution_count": 7,
   "id": "e36de899",
   "metadata": {},
   "outputs": [],
   "source": [
    "c10:: Device device{c10::DeviceType::CPU};\n",
    "//std::cout << device << std::endl;"
   ]
  },
  {
   "cell_type": "code",
   "execution_count": 8,
   "id": "95e659bf",
   "metadata": {},
   "outputs": [],
   "source": [
    "std::vector<float> flatted_data_vector1d = {1,2,3,4,5,6,7,8,9,10,11,12,13,14,15,16,17,18};"
   ]
  },
  {
   "cell_type": "code",
   "execution_count": 9,
   "id": "60956726",
   "metadata": {},
   "outputs": [
    {
     "name": "stdout",
     "output_type": "stream",
     "text": [
      "0x5630a9341fc0\n"
     ]
    }
   ],
   "source": [
    "float* float_ptr = flatted_data_vector1d.data();\n",
    "std::cout << float_ptr << std::endl;"
   ]
  },
  {
   "cell_type": "code",
   "execution_count": 10,
   "id": "e0adcfd8",
   "metadata": {},
   "outputs": [],
   "source": [
    "c10::DataPtr data_ptr{};\n",
    "data_ptr = c10::DataPtr{flatted_data_vector1d.data(), device};"
   ]
  },
  {
   "cell_type": "code",
   "execution_count": 11,
   "id": "e1a9a02b",
   "metadata": {},
   "outputs": [
    {
     "name": "stdout",
     "output_type": "stream",
     "text": [
      "cpu\n",
      "0x5630a9341fc0\n"
     ]
    }
   ],
   "source": [
    "std::cout << data_ptr.device().type() << std::endl;\n",
    "std::cout << data_ptr.get() << std::endl;"
   ]
  },
  {
   "cell_type": "markdown",
   "id": "091645aa",
   "metadata": {},
   "source": [
    "## 2 create storage"
   ]
  },
  {
   "cell_type": "code",
   "execution_count": 12,
   "id": "2e558c2b",
   "metadata": {},
   "outputs": [
    {
     "name": "stderr",
     "output_type": "stream",
     "text": [
      "In file included from input_line_18:1:\n",
      "In file included from /home/sz/Documents/workspace/third_party/minitorch/c10/core/SymInt.h:3:\n",
      "\u001b[1m/home/sz/Documents/workspace/third_party/minitorch/c10/core/SymNodeImpl.h:26:5: \u001b[0m\u001b[0;1;31merror: \u001b[0m\u001b[1mcontrol reaches end of non-void function [-Werror,-Wreturn-type]\u001b[0m\n",
      "    }\n",
      "\u001b[0;1;32m    ^\n",
      "\u001b[0m\u001b[1m/home/sz/Documents/workspace/third_party/minitorch/c10/core/SymNodeImpl.h:28:5: \u001b[0m\u001b[0;1;31merror: \u001b[0m\u001b[1mcontrol reaches end of non-void function [-Werror,-Wreturn-type]\u001b[0m\n",
      "    };\n",
      "\u001b[0;1;32m    ^\n",
      "\u001b[0m\u001b[1m/home/sz/Documents/workspace/third_party/minitorch/c10/core/SymNodeImpl.h:30:5: \u001b[0m\u001b[0;1;31merror: \u001b[0m\u001b[1mcontrol reaches end of non-void function [-Werror,-Wreturn-type]\u001b[0m\n",
      "    };\n",
      "\u001b[0;1;32m    ^\n",
      "\u001b[0m\u001b[1m/home/sz/Documents/workspace/third_party/minitorch/c10/core/SymNodeImpl.h:32:5: \u001b[0m\u001b[0;1;31merror: \u001b[0m\u001b[1mcontrol reaches end of non-void function [-Werror,-Wreturn-type]\u001b[0m\n",
      "    };\n",
      "\u001b[0;1;32m    ^\n",
      "\u001b[0m\u001b[1m/home/sz/Documents/workspace/third_party/minitorch/c10/core/SymNodeImpl.h:34:5: \u001b[0m\u001b[0;1;31merror: \u001b[0m\u001b[1mcontrol reaches end of non-void function [-Werror,-Wreturn-type]\u001b[0m\n",
      "    };\n",
      "\u001b[0;1;32m    ^\n",
      "\u001b[0m\u001b[1m/home/sz/Documents/workspace/third_party/minitorch/c10/core/SymNodeImpl.h:36:5: \u001b[0m\u001b[0;1;31merror: \u001b[0m\u001b[1mcontrol reaches end of non-void function [-Werror,-Wreturn-type]\u001b[0m\n",
      "    };\n",
      "\u001b[0;1;32m    ^\n",
      "\u001b[0m\u001b[1m/home/sz/Documents/workspace/third_party/minitorch/c10/core/SymNodeImpl.h:38:5: \u001b[0m\u001b[0;1;31merror: \u001b[0m\u001b[1mcontrol reaches end of non-void function [-Werror,-Wreturn-type]\u001b[0m\n",
      "    };\n",
      "\u001b[0;1;32m    ^\n",
      "\u001b[0m\u001b[1m/home/sz/Documents/workspace/third_party/minitorch/c10/core/SymNodeImpl.h:40:5: \u001b[0m\u001b[0;1;31merror: \u001b[0m\u001b[1mcontrol reaches end of non-void function [-Werror,-Wreturn-type]\u001b[0m\n",
      "    };\n",
      "\u001b[0;1;32m    ^\n",
      "\u001b[0m\u001b[1m/home/sz/Documents/workspace/third_party/minitorch/c10/core/SymNodeImpl.h:42:5: \u001b[0m\u001b[0;1;31merror: \u001b[0m\u001b[1mcontrol reaches end of non-void function [-Werror,-Wreturn-type]\u001b[0m\n",
      "    };\n",
      "\u001b[0;1;32m    ^\n",
      "\u001b[0m\u001b[1m/home/sz/Documents/workspace/third_party/minitorch/c10/core/SymNodeImpl.h:44:5: \u001b[0m\u001b[0;1;31merror: \u001b[0m\u001b[1mcontrol reaches end of non-void function [-Werror,-Wreturn-type]\u001b[0m\n",
      "    };\n",
      "\u001b[0;1;32m    ^\n",
      "\u001b[0m\u001b[1m/home/sz/Documents/workspace/third_party/minitorch/c10/core/SymNodeImpl.h:46:5: \u001b[0m\u001b[0;1;31merror: \u001b[0m\u001b[1mcontrol reaches end of non-void function [-Werror,-Wreturn-type]\u001b[0m\n",
      "    };\n",
      "\u001b[0;1;32m    ^\n",
      "\u001b[0m\u001b[1m/home/sz/Documents/workspace/third_party/minitorch/c10/core/SymNodeImpl.h:48:5: \u001b[0m\u001b[0;1;31merror: \u001b[0m\u001b[1mcontrol reaches end of non-void function [-Werror,-Wreturn-type]\u001b[0m\n",
      "    };\n",
      "\u001b[0;1;32m    ^\n",
      "\u001b[0m\u001b[1m/home/sz/Documents/workspace/third_party/minitorch/c10/core/SymNodeImpl.h:50:5: \u001b[0m\u001b[0;1;31merror: \u001b[0m\u001b[1mcontrol reaches end of non-void function [-Werror,-Wreturn-type]\u001b[0m\n",
      "    };\n",
      "\u001b[0;1;32m    ^\n",
      "\u001b[0m\u001b[1m/home/sz/Documents/workspace/third_party/minitorch/c10/core/SymNodeImpl.h:52:5: \u001b[0m\u001b[0;1;31merror: \u001b[0m\u001b[1mcontrol reaches end of non-void function [-Werror,-Wreturn-type]\u001b[0m\n",
      "    };\n",
      "\u001b[0;1;32m    ^\n",
      "\u001b[0m\u001b[1m/home/sz/Documents/workspace/third_party/minitorch/c10/core/SymNodeImpl.h:54:5: \u001b[0m\u001b[0;1;31merror: \u001b[0m\u001b[1mcontrol reaches end of non-void function [-Werror,-Wreturn-type]\u001b[0m\n",
      "    };\n",
      "\u001b[0;1;32m    ^\n",
      "\u001b[0m\u001b[1m/home/sz/Documents/workspace/third_party/minitorch/c10/core/SymNodeImpl.h:56:5: \u001b[0m\u001b[0;1;31merror: \u001b[0m\u001b[1mcontrol reaches end of non-void function [-Werror,-Wreturn-type]\u001b[0m\n",
      "    }\n",
      "\u001b[0;1;32m    ^\n",
      "\u001b[0m\u001b[1m/home/sz/Documents/workspace/third_party/minitorch/c10/core/SymNodeImpl.h:58:5: \u001b[0m\u001b[0;1;31merror: \u001b[0m\u001b[1mcontrol reaches end of non-void function [-Werror,-Wreturn-type]\u001b[0m\n",
      "    }\n",
      "\u001b[0;1;32m    ^\n",
      "\u001b[0m\u001b[1m/home/sz/Documents/workspace/third_party/minitorch/c10/core/SymNodeImpl.h:60:5: \u001b[0m\u001b[0;1;31merror: \u001b[0m\u001b[1mcontrol reaches end of non-void function [-Werror,-Wreturn-type]\u001b[0m\n",
      "    }\n",
      "\u001b[0;1;32m    ^\n",
      "\u001b[0m\u001b[1m/home/sz/Documents/workspace/third_party/minitorch/c10/core/SymNodeImpl.h:62:5: \u001b[0m\u001b[0;1;31merror: \u001b[0m\u001b[1mcontrol reaches end of non-void function [-Werror,-Wreturn-type]\u001b[0m\n",
      "    }\n",
      "\u001b[0;1;32m    ^\n",
      "\u001b[0m\u001b[1m/home/sz/Documents/workspace/third_party/minitorch/c10/core/SymNodeImpl.h:64:5: \u001b[0m\u001b[0;1;31merror: \u001b[0m\u001b[1mcontrol reaches end of non-void function [-Werror,-Wreturn-type]\u001b[0m\n",
      "    }\n",
      "\u001b[0;1;32m    ^\n",
      "\u001b[0m\u001b[1m/home/sz/Documents/workspace/third_party/minitorch/c10/core/SymNodeImpl.h:66:5: \u001b[0m\u001b[0;1;31merror: \u001b[0m\u001b[1mcontrol reaches end of non-void function [-Werror,-Wreturn-type]\u001b[0m\n",
      "    }\n",
      "\u001b[0;1;32m    ^\n",
      "\u001b[0m\u001b[1m/home/sz/Documents/workspace/third_party/minitorch/c10/core/SymNodeImpl.h:68:5: \u001b[0m\u001b[0;1;31merror: \u001b[0m\u001b[1mcontrol reaches end of non-void function [-Werror,-Wreturn-type]\u001b[0m\n",
      "    }\n",
      "\u001b[0;1;32m    ^\n",
      "\u001b[0m\u001b[1m/home/sz/Documents/workspace/third_party/minitorch/c10/core/SymNodeImpl.h:70:5: \u001b[0m\u001b[0;1;31merror: \u001b[0m\u001b[1mcontrol reaches end of non-void function [-Werror,-Wreturn-type]\u001b[0m\n",
      "    }\n",
      "\u001b[0;1;32m    ^\n",
      "\u001b[0m\u001b[1m/home/sz/Documents/workspace/third_party/minitorch/c10/core/SymNodeImpl.h:72:5: \u001b[0m\u001b[0;1;31merror: \u001b[0m\u001b[1mcontrol reaches end of non-void function [-Werror,-Wreturn-type]\u001b[0m\n",
      "    }\n",
      "\u001b[0;1;32m    ^\n",
      "\u001b[0m\u001b[1m/home/sz/Documents/workspace/third_party/minitorch/c10/core/SymNodeImpl.h:74:5: \u001b[0m\u001b[0;1;31merror: \u001b[0m\u001b[1mcontrol reaches end of non-void function [-Werror,-Wreturn-type]\u001b[0m\n",
      "    }\n",
      "\u001b[0;1;32m    ^\n",
      "\u001b[0m\u001b[1m/home/sz/Documents/workspace/third_party/minitorch/c10/core/SymNodeImpl.h:76:5: \u001b[0m\u001b[0;1;31merror: \u001b[0m\u001b[1mcontrol reaches end of non-void function [-Werror,-Wreturn-type]\u001b[0m\n",
      "    }\n",
      "\u001b[0;1;32m    ^\n",
      "\u001b[0m\u001b[1m/home/sz/Documents/workspace/third_party/minitorch/c10/core/SymNodeImpl.h:78:5: \u001b[0m\u001b[0;1;31merror: \u001b[0m\u001b[1mcontrol reaches end of non-void function [-Werror,-Wreturn-type]\u001b[0m\n",
      "    }\n",
      "\u001b[0;1;32m    ^\n",
      "\u001b[0m\u001b[1m/home/sz/Documents/workspace/third_party/minitorch/c10/core/SymNodeImpl.h:80:5: \u001b[0m\u001b[0;1;31merror: \u001b[0m\u001b[1mcontrol reaches end of non-void function [-Werror,-Wreturn-type]\u001b[0m\n",
      "    }\n",
      "\u001b[0;1;32m    ^\n",
      "\u001b[0m\u001b[1m/home/sz/Documents/workspace/third_party/minitorch/c10/core/SymNodeImpl.h:82:5: \u001b[0m\u001b[0;1;31merror: \u001b[0m\u001b[1mcontrol reaches end of non-void function [-Werror,-Wreturn-type]\u001b[0m\n",
      "    }\n",
      "\u001b[0;1;32m    ^\n",
      "\u001b[0m"
     ]
    }
   ],
   "source": [
    "#include <c10/core/SymInt.h>\n",
    "#include <c10/core/Storage.h>"
   ]
  },
  {
   "cell_type": "code",
   "execution_count": 13,
   "id": "5eb61781",
   "metadata": {},
   "outputs": [
    {
     "name": "stdout",
     "output_type": "stream",
     "text": [
      "hello\n"
     ]
    }
   ],
   "source": [
    "std::cout << \"hello\" << std::endl;"
   ]
  },
  {
   "cell_type": "code",
   "execution_count": 14,
   "id": "fada1a7e",
   "metadata": {},
   "outputs": [],
   "source": [
    "//c10::SymInt size_bytes{72};\n",
    "std::size_t size_bytes =72;"
   ]
  },
  {
   "cell_type": "code",
   "execution_count": 15,
   "id": "08c3f558",
   "metadata": {},
   "outputs": [],
   "source": [
    "// step2: create storage\n",
    "// https://github.com/pytorch/pytorch/blob/master/c10/core/Storage.h\n",
    "c10::Storage storage{/*use_byte_size*/c10::Storage::use_byte_size_t{}, /*size_bytes*/size_bytes, /*data_ptr*/std::move(data_ptr),nullptr, false};"
   ]
  },
  {
   "cell_type": "code",
   "execution_count": 16,
   "id": "d8924f84",
   "metadata": {},
   "outputs": [
    {
     "name": "stdout",
     "output_type": "stream",
     "text": [
      "72\n"
     ]
    }
   ],
   "source": [
    "std::cout << storage.nbytes() << std::endl;"
   ]
  },
  {
   "cell_type": "markdown",
   "id": "1ae7ab79",
   "metadata": {},
   "source": [
    "# caffe2::TypeMeta == tensor.dtype()"
   ]
  },
  {
   "cell_type": "code",
   "execution_count": 17,
   "id": "1ffb2d58",
   "metadata": {},
   "outputs": [],
   "source": [
    "#include <c10/util/string_view.h>"
   ]
  },
  {
   "cell_type": "code",
   "execution_count": 18,
   "id": "2dc6e6bf",
   "metadata": {},
   "outputs": [],
   "source": [
    "c10::string_view a = \"hello world\";"
   ]
  },
  {
   "cell_type": "code",
   "execution_count": 19,
   "id": "4cd7207f",
   "metadata": {},
   "outputs": [
    {
     "name": "stdout",
     "output_type": "stream",
     "text": [
      "hello world\n",
      "11\n"
     ]
    }
   ],
   "source": [
    "std::cout << a << std::endl;\n",
    "std::cout << a.size() << std::endl;"
   ]
  },
  {
   "cell_type": "code",
   "execution_count": 20,
   "id": "ae09f8ac",
   "metadata": {},
   "outputs": [],
   "source": [
    "#include <c10/util/TypeIndex.h>"
   ]
  },
  {
   "cell_type": "code",
   "execution_count": 21,
   "id": "c511d1bc",
   "metadata": {},
   "outputs": [
    {
     "name": "stdout",
     "output_type": "stream",
     "text": [
      "float\n",
      "double\n"
     ]
    }
   ],
   "source": [
    "std::cout << c10::util::get_fully_qualified_type_name<float>() << std::endl;\n",
    "std::cout << c10::util::get_fully_qualified_type_name<double>() << std::endl;"
   ]
  },
  {
   "cell_type": "code",
   "execution_count": 22,
   "id": "2aeb9434",
   "metadata": {},
   "outputs": [
    {
     "name": "stderr",
     "output_type": "stream",
     "text": [
      "In file included from input_line_28:1:\n",
      "\u001b[1m/home/sz/Documents/workspace/third_party/minitorch/c10/core/ScalarType.h:42:17: \u001b[0m\u001b[0;1;35mwarning: \u001b[0m\u001b[1menumeration values 'Undefined' and 'NumOptions' not handled in switch [-Wswitch]\u001b[0m\n",
      "        switch (t) {\n",
      "\u001b[0;1;32m                ^\n",
      "\u001b[0m\u001b[1m/home/sz/Documents/workspace/third_party/minitorch/c10/core/ScalarType.h:46:9: \u001b[0m\u001b[0;1;35mwarning: \u001b[0m\u001b[1mcontrol may reach end of non-void function [-Wreturn-type]\u001b[0m\n",
      "        }\n",
      "\u001b[0;1;32m        ^\n",
      "\u001b[0m"
     ]
    }
   ],
   "source": [
    "#include <c10/core/ScalarType.h>"
   ]
  },
  {
   "cell_type": "code",
   "execution_count": 23,
   "id": "1fad616c",
   "metadata": {},
   "outputs": [
    {
     "name": "stdout",
     "output_type": "stream",
     "text": [
      "Float\n",
      "8\n",
      "4\n"
     ]
    }
   ],
   "source": [
    "std::cout << c10::ScalarType::Float << std::endl;\n",
    "std::cout << c10::NumScalarTypes << std::endl;\n",
    "std::cout << c10::elementSize(c10::ScalarType::Float) << std::endl;"
   ]
  },
  {
   "cell_type": "code",
   "execution_count": 24,
   "id": "e71056ad",
   "metadata": {},
   "outputs": [],
   "source": [
    "#include <c10/util/typeid.h>"
   ]
  },
  {
   "cell_type": "code",
   "execution_count": 25,
   "id": "f396ec22",
   "metadata": {},
   "outputs": [
    {
     "name": "stdout",
     "output_type": "stream",
     "text": [
      "float\n",
      "float\n",
      "4\n"
     ]
    }
   ],
   "source": [
    "caffe2::TypeMeta float_dtype = caffe2::TypeMeta::Make<float>();\n",
    "std::cout << float_dtype << std::endl;\n",
    "std::cout << float_dtype.name() << std::endl;\n",
    "std::cout << float_dtype.itemsize() << std::endl;"
   ]
  }
 ],
 "metadata": {
  "kernelspec": {
   "display_name": "C++17",
   "language": "C++17",
   "name": "xcpp17"
  },
  "language_info": {
   "codemirror_mode": "text/x-c++src",
   "file_extension": ".cpp",
   "mimetype": "text/x-c++src",
   "name": "c++",
   "version": "17"
  }
 },
 "nbformat": 4,
 "nbformat_minor": 5
}
