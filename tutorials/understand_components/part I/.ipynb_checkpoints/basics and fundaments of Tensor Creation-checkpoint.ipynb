{
 "cells": [
  {
   "cell_type": "code",
   "execution_count": 1,
   "id": "f1f2addd",
   "metadata": {},
   "outputs": [],
   "source": [
    "#pragma cling add_include_path(\"/home/sz/Documents/workspace/third_party/minitorch\")\n",
    "#pragma cling add_library_path(\"/home/sz/Documents/workspace/third_party/minitorch/build/c10\")\n",
    "#pragma cling load(\"c10\")"
   ]
  },
  {
   "cell_type": "code",
   "execution_count": 2,
   "id": "86a736e5",
   "metadata": {},
   "outputs": [],
   "source": [
    "#include <c10/util/UniqueVoidPtr.h>"
   ]
  },
  {
   "cell_type": "code",
   "execution_count": 3,
   "id": "f8f30b9a",
   "metadata": {},
   "outputs": [],
   "source": [
    "#include <c10/core/Device.h>"
   ]
  },
  {
   "cell_type": "code",
   "execution_count": 4,
   "id": "3ee1f8d3",
   "metadata": {},
   "outputs": [],
   "source": [
    "#include <c10/core/Allocator.h>"
   ]
  },
  {
   "cell_type": "code",
   "execution_count": 5,
   "id": "a0adebba",
   "metadata": {},
   "outputs": [],
   "source": [
    "#include <vector>\n",
    "#include <iostream>"
   ]
  },
  {
   "cell_type": "markdown",
   "id": "11eb292c",
   "metadata": {},
   "source": [
    "## 1.1 create c10::DataPtr"
   ]
  },
  {
   "cell_type": "code",
   "execution_count": 6,
   "id": "a225bf7f",
   "metadata": {},
   "outputs": [
    {
     "name": "stdout",
     "output_type": "stream",
     "text": [
      "cpu\n"
     ]
    }
   ],
   "source": [
    "std::cout << c10::DeviceType::CPU << std::endl;"
   ]
  },
  {
   "cell_type": "code",
   "execution_count": 7,
   "id": "e36de899",
   "metadata": {},
   "outputs": [],
   "source": [
    "c10:: Device device{c10::DeviceType::CPU};\n",
    "//std::cout << device << std::endl;"
   ]
  },
  {
   "cell_type": "code",
   "execution_count": 8,
   "id": "95e659bf",
   "metadata": {},
   "outputs": [],
   "source": [
    "std::vector<float> flatted_data_vector1d = {1,2,3,4,5,6,7,8,9,10,11,12,13,14,15,16,17,18};"
   ]
  },
  {
   "cell_type": "code",
   "execution_count": 9,
   "id": "60956726",
   "metadata": {},
   "outputs": [
    {
     "name": "stdout",
     "output_type": "stream",
     "text": [
      "0x5558c24e44b0\n"
     ]
    }
   ],
   "source": [
    "float* float_ptr = flatted_data_vector1d.data();\n",
    "std::cout << float_ptr << std::endl;"
   ]
  },
  {
   "cell_type": "code",
   "execution_count": 10,
   "id": "e0adcfd8",
   "metadata": {},
   "outputs": [],
   "source": [
    "c10::DataPtr data_ptr{};\n",
    "data_ptr = c10::DataPtr{flatted_data_vector1d.data(), device};"
   ]
  },
  {
   "cell_type": "code",
   "execution_count": 11,
   "id": "e1a9a02b",
   "metadata": {},
   "outputs": [
    {
     "name": "stdout",
     "output_type": "stream",
     "text": [
      "cpu\n",
      "0x5558c24e44b0\n"
     ]
    }
   ],
   "source": [
    "std::cout << data_ptr.device().type() << std::endl;\n",
    "std::cout << data_ptr.get() << std::endl;"
   ]
  },
  {
   "cell_type": "markdown",
   "id": "091645aa",
   "metadata": {},
   "source": [
    "## 1.2 create storage"
   ]
  },
  {
   "cell_type": "code",
   "execution_count": 12,
   "id": "2e558c2b",
   "metadata": {},
   "outputs": [
    {
     "name": "stderr",
     "output_type": "stream",
     "text": [
      "In file included from input_line_18:1:\n",
      "In file included from /home/sz/Documents/workspace/third_party/minitorch/c10/core/SymInt.h:3:\n",
      "\u001b[1m/home/sz/Documents/workspace/third_party/minitorch/c10/core/SymNodeImpl.h:26:5: \u001b[0m\u001b[0;1;31merror: \u001b[0m\u001b[1mcontrol reaches end of non-void function [-Werror,-Wreturn-type]\u001b[0m\n",
      "    }\n",
      "\u001b[0;1;32m    ^\n",
      "\u001b[0m\u001b[1m/home/sz/Documents/workspace/third_party/minitorch/c10/core/SymNodeImpl.h:28:5: \u001b[0m\u001b[0;1;31merror: \u001b[0m\u001b[1mcontrol reaches end of non-void function [-Werror,-Wreturn-type]\u001b[0m\n",
      "    };\n",
      "\u001b[0;1;32m    ^\n",
      "\u001b[0m\u001b[1m/home/sz/Documents/workspace/third_party/minitorch/c10/core/SymNodeImpl.h:30:5: \u001b[0m\u001b[0;1;31merror: \u001b[0m\u001b[1mcontrol reaches end of non-void function [-Werror,-Wreturn-type]\u001b[0m\n",
      "    };\n",
      "\u001b[0;1;32m    ^\n",
      "\u001b[0m\u001b[1m/home/sz/Documents/workspace/third_party/minitorch/c10/core/SymNodeImpl.h:32:5: \u001b[0m\u001b[0;1;31merror: \u001b[0m\u001b[1mcontrol reaches end of non-void function [-Werror,-Wreturn-type]\u001b[0m\n",
      "    };\n",
      "\u001b[0;1;32m    ^\n",
      "\u001b[0m\u001b[1m/home/sz/Documents/workspace/third_party/minitorch/c10/core/SymNodeImpl.h:34:5: \u001b[0m\u001b[0;1;31merror: \u001b[0m\u001b[1mcontrol reaches end of non-void function [-Werror,-Wreturn-type]\u001b[0m\n",
      "    };\n",
      "\u001b[0;1;32m    ^\n",
      "\u001b[0m\u001b[1m/home/sz/Documents/workspace/third_party/minitorch/c10/core/SymNodeImpl.h:36:5: \u001b[0m\u001b[0;1;31merror: \u001b[0m\u001b[1mcontrol reaches end of non-void function [-Werror,-Wreturn-type]\u001b[0m\n",
      "    };\n",
      "\u001b[0;1;32m    ^\n",
      "\u001b[0m\u001b[1m/home/sz/Documents/workspace/third_party/minitorch/c10/core/SymNodeImpl.h:38:5: \u001b[0m\u001b[0;1;31merror: \u001b[0m\u001b[1mcontrol reaches end of non-void function [-Werror,-Wreturn-type]\u001b[0m\n",
      "    };\n",
      "\u001b[0;1;32m    ^\n",
      "\u001b[0m\u001b[1m/home/sz/Documents/workspace/third_party/minitorch/c10/core/SymNodeImpl.h:40:5: \u001b[0m\u001b[0;1;31merror: \u001b[0m\u001b[1mcontrol reaches end of non-void function [-Werror,-Wreturn-type]\u001b[0m\n",
      "    };\n",
      "\u001b[0;1;32m    ^\n",
      "\u001b[0m\u001b[1m/home/sz/Documents/workspace/third_party/minitorch/c10/core/SymNodeImpl.h:42:5: \u001b[0m\u001b[0;1;31merror: \u001b[0m\u001b[1mcontrol reaches end of non-void function [-Werror,-Wreturn-type]\u001b[0m\n",
      "    };\n",
      "\u001b[0;1;32m    ^\n",
      "\u001b[0m\u001b[1m/home/sz/Documents/workspace/third_party/minitorch/c10/core/SymNodeImpl.h:44:5: \u001b[0m\u001b[0;1;31merror: \u001b[0m\u001b[1mcontrol reaches end of non-void function [-Werror,-Wreturn-type]\u001b[0m\n",
      "    };\n",
      "\u001b[0;1;32m    ^\n",
      "\u001b[0m\u001b[1m/home/sz/Documents/workspace/third_party/minitorch/c10/core/SymNodeImpl.h:46:5: \u001b[0m\u001b[0;1;31merror: \u001b[0m\u001b[1mcontrol reaches end of non-void function [-Werror,-Wreturn-type]\u001b[0m\n",
      "    };\n",
      "\u001b[0;1;32m    ^\n",
      "\u001b[0m\u001b[1m/home/sz/Documents/workspace/third_party/minitorch/c10/core/SymNodeImpl.h:48:5: \u001b[0m\u001b[0;1;31merror: \u001b[0m\u001b[1mcontrol reaches end of non-void function [-Werror,-Wreturn-type]\u001b[0m\n",
      "    };\n",
      "\u001b[0;1;32m    ^\n",
      "\u001b[0m\u001b[1m/home/sz/Documents/workspace/third_party/minitorch/c10/core/SymNodeImpl.h:50:5: \u001b[0m\u001b[0;1;31merror: \u001b[0m\u001b[1mcontrol reaches end of non-void function [-Werror,-Wreturn-type]\u001b[0m\n",
      "    };\n",
      "\u001b[0;1;32m    ^\n",
      "\u001b[0m\u001b[1m/home/sz/Documents/workspace/third_party/minitorch/c10/core/SymNodeImpl.h:52:5: \u001b[0m\u001b[0;1;31merror: \u001b[0m\u001b[1mcontrol reaches end of non-void function [-Werror,-Wreturn-type]\u001b[0m\n",
      "    };\n",
      "\u001b[0;1;32m    ^\n",
      "\u001b[0m\u001b[1m/home/sz/Documents/workspace/third_party/minitorch/c10/core/SymNodeImpl.h:54:5: \u001b[0m\u001b[0;1;31merror: \u001b[0m\u001b[1mcontrol reaches end of non-void function [-Werror,-Wreturn-type]\u001b[0m\n",
      "    };\n",
      "\u001b[0;1;32m    ^\n",
      "\u001b[0m\u001b[1m/home/sz/Documents/workspace/third_party/minitorch/c10/core/SymNodeImpl.h:56:5: \u001b[0m\u001b[0;1;31merror: \u001b[0m\u001b[1mcontrol reaches end of non-void function [-Werror,-Wreturn-type]\u001b[0m\n",
      "    }\n",
      "\u001b[0;1;32m    ^\n",
      "\u001b[0m\u001b[1m/home/sz/Documents/workspace/third_party/minitorch/c10/core/SymNodeImpl.h:58:5: \u001b[0m\u001b[0;1;31merror: \u001b[0m\u001b[1mcontrol reaches end of non-void function [-Werror,-Wreturn-type]\u001b[0m\n",
      "    }\n",
      "\u001b[0;1;32m    ^\n",
      "\u001b[0m\u001b[1m/home/sz/Documents/workspace/third_party/minitorch/c10/core/SymNodeImpl.h:60:5: \u001b[0m\u001b[0;1;31merror: \u001b[0m\u001b[1mcontrol reaches end of non-void function [-Werror,-Wreturn-type]\u001b[0m\n",
      "    }\n",
      "\u001b[0;1;32m    ^\n",
      "\u001b[0m\u001b[1m/home/sz/Documents/workspace/third_party/minitorch/c10/core/SymNodeImpl.h:62:5: \u001b[0m\u001b[0;1;31merror: \u001b[0m\u001b[1mcontrol reaches end of non-void function [-Werror,-Wreturn-type]\u001b[0m\n",
      "    }\n",
      "\u001b[0;1;32m    ^\n",
      "\u001b[0m\u001b[1m/home/sz/Documents/workspace/third_party/minitorch/c10/core/SymNodeImpl.h:64:5: \u001b[0m\u001b[0;1;31merror: \u001b[0m\u001b[1mcontrol reaches end of non-void function [-Werror,-Wreturn-type]\u001b[0m\n",
      "    }\n",
      "\u001b[0;1;32m    ^\n",
      "\u001b[0m\u001b[1m/home/sz/Documents/workspace/third_party/minitorch/c10/core/SymNodeImpl.h:66:5: \u001b[0m\u001b[0;1;31merror: \u001b[0m\u001b[1mcontrol reaches end of non-void function [-Werror,-Wreturn-type]\u001b[0m\n",
      "    }\n",
      "\u001b[0;1;32m    ^\n",
      "\u001b[0m\u001b[1m/home/sz/Documents/workspace/third_party/minitorch/c10/core/SymNodeImpl.h:68:5: \u001b[0m\u001b[0;1;31merror: \u001b[0m\u001b[1mcontrol reaches end of non-void function [-Werror,-Wreturn-type]\u001b[0m\n",
      "    }\n",
      "\u001b[0;1;32m    ^\n",
      "\u001b[0m\u001b[1m/home/sz/Documents/workspace/third_party/minitorch/c10/core/SymNodeImpl.h:70:5: \u001b[0m\u001b[0;1;31merror: \u001b[0m\u001b[1mcontrol reaches end of non-void function [-Werror,-Wreturn-type]\u001b[0m\n",
      "    }\n",
      "\u001b[0;1;32m    ^\n",
      "\u001b[0m\u001b[1m/home/sz/Documents/workspace/third_party/minitorch/c10/core/SymNodeImpl.h:72:5: \u001b[0m\u001b[0;1;31merror: \u001b[0m\u001b[1mcontrol reaches end of non-void function [-Werror,-Wreturn-type]\u001b[0m\n",
      "    }\n",
      "\u001b[0;1;32m    ^\n",
      "\u001b[0m\u001b[1m/home/sz/Documents/workspace/third_party/minitorch/c10/core/SymNodeImpl.h:74:5: \u001b[0m\u001b[0;1;31merror: \u001b[0m\u001b[1mcontrol reaches end of non-void function [-Werror,-Wreturn-type]\u001b[0m\n",
      "    }\n",
      "\u001b[0;1;32m    ^\n",
      "\u001b[0m\u001b[1m/home/sz/Documents/workspace/third_party/minitorch/c10/core/SymNodeImpl.h:76:5: \u001b[0m\u001b[0;1;31merror: \u001b[0m\u001b[1mcontrol reaches end of non-void function [-Werror,-Wreturn-type]\u001b[0m\n",
      "    }\n",
      "\u001b[0;1;32m    ^\n",
      "\u001b[0m\u001b[1m/home/sz/Documents/workspace/third_party/minitorch/c10/core/SymNodeImpl.h:78:5: \u001b[0m\u001b[0;1;31merror: \u001b[0m\u001b[1mcontrol reaches end of non-void function [-Werror,-Wreturn-type]\u001b[0m\n",
      "    }\n",
      "\u001b[0;1;32m    ^\n",
      "\u001b[0m\u001b[1m/home/sz/Documents/workspace/third_party/minitorch/c10/core/SymNodeImpl.h:80:5: \u001b[0m\u001b[0;1;31merror: \u001b[0m\u001b[1mcontrol reaches end of non-void function [-Werror,-Wreturn-type]\u001b[0m\n",
      "    }\n",
      "\u001b[0;1;32m    ^\n",
      "\u001b[0m\u001b[1m/home/sz/Documents/workspace/third_party/minitorch/c10/core/SymNodeImpl.h:82:5: \u001b[0m\u001b[0;1;31merror: \u001b[0m\u001b[1mcontrol reaches end of non-void function [-Werror,-Wreturn-type]\u001b[0m\n",
      "    }\n",
      "\u001b[0;1;32m    ^\n",
      "\u001b[0m"
     ]
    }
   ],
   "source": [
    "#include <c10/core/SymInt.h>\n",
    "#include <c10/core/Storage.h>"
   ]
  },
  {
   "cell_type": "code",
   "execution_count": 13,
   "id": "5eb61781",
   "metadata": {},
   "outputs": [
    {
     "name": "stdout",
     "output_type": "stream",
     "text": [
      "hello\n"
     ]
    }
   ],
   "source": [
    "std::cout << \"hello\" << std::endl;"
   ]
  },
  {
   "cell_type": "code",
   "execution_count": 14,
   "id": "fada1a7e",
   "metadata": {},
   "outputs": [],
   "source": [
    "//c10::SymInt size_bytes{72};\n",
    "std::size_t size_bytes =72;"
   ]
  },
  {
   "cell_type": "code",
   "execution_count": 15,
   "id": "08c3f558",
   "metadata": {},
   "outputs": [],
   "source": [
    "// step2: create storage\n",
    "// https://github.com/pytorch/pytorch/blob/master/c10/core/Storage.h\n",
    "c10::Storage storage{/*use_byte_size*/c10::Storage::use_byte_size_t{}, /*size_bytes*/size_bytes, /*data_ptr*/std::move(data_ptr),nullptr, false};"
   ]
  },
  {
   "cell_type": "code",
   "execution_count": 16,
   "id": "d8924f84",
   "metadata": {},
   "outputs": [
    {
     "name": "stdout",
     "output_type": "stream",
     "text": [
      "72\n"
     ]
    }
   ],
   "source": [
    "std::cout << storage.nbytes() << std::endl;"
   ]
  },
  {
   "cell_type": "markdown",
   "id": "c0e9126e",
   "metadata": {},
   "source": [
    "## 1.3 DispatchKey and DispatchKeySet"
   ]
  },
  {
   "cell_type": "code",
   "execution_count": 17,
   "id": "c723d107",
   "metadata": {},
   "outputs": [],
   "source": [
    "#include <c10/core/DispatchKey.h>\n",
    "#include <c10/core/DispatchKeySet.h>"
   ]
  },
  {
   "cell_type": "code",
   "execution_count": 18,
   "id": "7a1f7f92",
   "metadata": {},
   "outputs": [
    {
     "name": "stdout",
     "output_type": "stream",
     "text": [
      "Undefined\n"
     ]
    }
   ],
   "source": [
    "std::cout << c10::DispatchKey::Undefined << std::endl;"
   ]
  },
  {
   "cell_type": "code",
   "execution_count": 19,
   "id": "0756b576",
   "metadata": {},
   "outputs": [
    {
     "name": "stdout",
     "output_type": "stream",
     "text": [
      "0\n"
     ]
    }
   ],
   "source": [
    "std::cout << static_cast<std::uint16_t>(c10::DispatchKey::Undefined) << std::endl;"
   ]
  },
  {
   "cell_type": "code",
   "execution_count": 20,
   "id": "242874e8",
   "metadata": {},
   "outputs": [
    {
     "name": "stdout",
     "output_type": "stream",
     "text": [
      "44\n"
     ]
    }
   ],
   "source": [
    "std::cout << static_cast<std::uint16_t>(c10::DispatchKey::CPU) << std::endl;"
   ]
  },
  {
   "cell_type": "code",
   "execution_count": 21,
   "id": "2ccbe484",
   "metadata": {},
   "outputs": [
    {
     "name": "stdout",
     "output_type": "stream",
     "text": [
      "45\n"
     ]
    }
   ],
   "source": [
    "std::cout << static_cast<std::uint16_t>(c10::DispatchKey::CUDA) << std::endl;"
   ]
  },
  {
   "cell_type": "code",
   "execution_count": 22,
   "id": "04a9a054",
   "metadata": {},
   "outputs": [
    {
     "name": "stdout",
     "output_type": "stream",
     "text": [
      "30\n"
     ]
    }
   ],
   "source": [
    "std::cout << static_cast<std::uint16_t>(c10::DispatchKey::Autocast) << std::endl;"
   ]
  },
  {
   "cell_type": "code",
   "execution_count": 23,
   "id": "2b6cf92b",
   "metadata": {},
   "outputs": [
    {
     "name": "stdout",
     "output_type": "stream",
     "text": [
      "27\n",
      "30\n",
      "118\n",
      "104\n",
      "105\n",
      "22\n"
     ]
    }
   ],
   "source": [
    "std::cout << static_cast<std::uint16_t>(c10::DispatchKey::AutocastCPU) << std::endl;\n",
    "std::cout << static_cast<std::uint16_t>(c10::DispatchKey::AutocastCUDA) << std::endl;\n",
    "std::cout << static_cast<std::uint16_t>(c10::DispatchKey::Autograd) << std::endl;\n",
    "std::cout << static_cast<std::uint16_t>(c10::DispatchKey::AutogradCPU) << std::endl;\n",
    "std::cout << static_cast<std::uint16_t>(c10::DispatchKey::AutogradCUDA) << std::endl;\n",
    "std::cout << static_cast<std::uint16_t>(c10::DispatchKey::ADInplaceOrView) << std::endl;"
   ]
  },
  {
   "cell_type": "code",
   "execution_count": 24,
   "id": "f5cedf63",
   "metadata": {},
   "outputs": [],
   "source": [
    "c10::DispatchKeySet custom_dks{{c10::DispatchKey::AutocastCPU,c10::DispatchKey::AutogradCPU, c10::DispatchKey::CPU}};"
   ]
  },
  {
   "cell_type": "code",
   "execution_count": 25,
   "id": "2ba5d7b2",
   "metadata": {},
   "outputs": [
    {
     "name": "stdout",
     "output_type": "stream",
     "text": [
      "DispatchKeySet(CPU, AutogradCPU, AutocastCPU)\n"
     ]
    }
   ],
   "source": [
    "std::cout << custom_dks << std::endl;"
   ]
  },
  {
   "cell_type": "code",
   "execution_count": 26,
   "id": "31eded7a",
   "metadata": {},
   "outputs": [
    {
     "name": "stdout",
     "output_type": "stream",
     "text": [
      "1236950597633\n"
     ]
    }
   ],
   "source": [
    "std::cout << custom_dks.raw_repr() << std::endl;"
   ]
  },
  {
   "cell_type": "code",
   "execution_count": 27,
   "id": "81140b3f",
   "metadata": {},
   "outputs": [
    {
     "name": "stdout",
     "output_type": "stream",
     "text": [
      "AutocastCPU\n"
     ]
    }
   ],
   "source": [
    "c10::DispatchKey custom_dk = custom_dks.highestPriorityTypeId();\n",
    "std::cout << custom_dk << std::endl;"
   ]
  },
  {
   "cell_type": "markdown",
   "id": "a2193c62",
   "metadata": {},
   "source": [
    "#### predefined DispatchKeySet"
   ]
  },
  {
   "cell_type": "code",
   "execution_count": 28,
   "id": "e03c221a",
   "metadata": {},
   "outputs": [
    {
     "name": "stdout",
     "output_type": "stream",
     "text": [
      "DispatchKeySet(AutogradOther, AutogradNestedTensor)\n"
     ]
    }
   ],
   "source": [
    "std::cout << c10::autograd_dispatch_keyset << std::endl;"
   ]
  },
  {
   "cell_type": "code",
   "execution_count": 29,
   "id": "7b900037",
   "metadata": {},
   "outputs": [
    {
     "name": "stdout",
     "output_type": "stream",
     "text": [
      "DispatchKeySet(AutocastCPU, AutocastXPU, AutocastHPU, AutocastCUDA)\n"
     ]
    }
   ],
   "source": [
    "std::cout << c10::autocast_dispatch_keyset << std::endl;"
   ]
  },
  {
   "cell_type": "code",
   "execution_count": 30,
   "id": "89fc0726",
   "metadata": {},
   "outputs": [
    {
     "name": "stdout",
     "output_type": "stream",
     "text": [
      "DispatchKeySet(BackendSelect, ADInplaceOrView)\n"
     ]
    }
   ],
   "source": [
    "std::cout << c10::default_included_set << std::endl;"
   ]
  },
  {
   "cell_type": "code",
   "execution_count": 31,
   "id": "31ff4e8a",
   "metadata": {},
   "outputs": [
    {
     "name": "stdout",
     "output_type": "stream",
     "text": [
      "DispatchKeySet(AutocastCPU, AutocastXPU, AutocastHPU, AutocastCUDA)\n"
     ]
    }
   ],
   "source": [
    "std::cout << c10::default_excluded_set << std::endl;"
   ]
  },
  {
   "cell_type": "code",
   "execution_count": 32,
   "id": "8b52be77",
   "metadata": {},
   "outputs": [
    {
     "name": "stdout",
     "output_type": "stream",
     "text": [
      "DispatchKeySet(Python, PythonTLSSnapshot)\n"
     ]
    }
   ],
   "source": [
    "std::cout << c10::python_ks << std::endl; "
   ]
  },
  {
   "cell_type": "markdown",
   "id": "e4263ee2",
   "metadata": {},
   "source": [
    "### DispatchKeySet operation"
   ]
  },
  {
   "cell_type": "code",
   "execution_count": 33,
   "id": "5df74d75",
   "metadata": {},
   "outputs": [
    {
     "name": "stdout",
     "output_type": "stream",
     "text": [
      "AutocastCPU\n"
     ]
    }
   ],
   "source": [
    "c10::DispatchKey custom_dk = custom_dks.highestPriorityTypeId();\n",
    "std::cout << custom_dk << std::endl;"
   ]
  },
  {
   "cell_type": "markdown",
   "id": "1ae7ab79",
   "metadata": {},
   "source": [
    "## 1.4 caffe2::TypeMeta == tensor.dtype()"
   ]
  },
  {
   "cell_type": "code",
   "execution_count": 34,
   "id": "1ffb2d58",
   "metadata": {},
   "outputs": [],
   "source": [
    "#include <c10/util/string_view.h>"
   ]
  },
  {
   "cell_type": "code",
   "execution_count": 35,
   "id": "2dc6e6bf",
   "metadata": {},
   "outputs": [],
   "source": [
    "c10::string_view a = \"hello world\";"
   ]
  },
  {
   "cell_type": "code",
   "execution_count": 36,
   "id": "4cd7207f",
   "metadata": {},
   "outputs": [
    {
     "name": "stdout",
     "output_type": "stream",
     "text": [
      "hello world\n",
      "11\n"
     ]
    }
   ],
   "source": [
    "std::cout << a << std::endl;\n",
    "std::cout << a.size() << std::endl;"
   ]
  },
  {
   "cell_type": "code",
   "execution_count": 37,
   "id": "ae09f8ac",
   "metadata": {},
   "outputs": [],
   "source": [
    "#include <c10/util/TypeIndex.h>"
   ]
  },
  {
   "cell_type": "code",
   "execution_count": 38,
   "id": "c511d1bc",
   "metadata": {},
   "outputs": [
    {
     "name": "stdout",
     "output_type": "stream",
     "text": [
      "float\n",
      "double\n"
     ]
    }
   ],
   "source": [
    "std::cout << c10::util::get_fully_qualified_type_name<float>() << std::endl;\n",
    "std::cout << c10::util::get_fully_qualified_type_name<double>() << std::endl;"
   ]
  },
  {
   "cell_type": "code",
   "execution_count": 39,
   "id": "2aeb9434",
   "metadata": {},
   "outputs": [
    {
     "name": "stderr",
     "output_type": "stream",
     "text": [
      "In file included from input_line_45:1:\n",
      "\u001b[1m/home/sz/Documents/workspace/third_party/minitorch/c10/core/ScalarType.h:42:17: \u001b[0m\u001b[0;1;35mwarning: \u001b[0m\u001b[1menumeration values 'Undefined' and 'NumOptions' not handled in switch [-Wswitch]\u001b[0m\n",
      "        switch (t) {\n",
      "\u001b[0;1;32m                ^\n",
      "\u001b[0m\u001b[1m/home/sz/Documents/workspace/third_party/minitorch/c10/core/ScalarType.h:46:9: \u001b[0m\u001b[0;1;35mwarning: \u001b[0m\u001b[1mcontrol may reach end of non-void function [-Wreturn-type]\u001b[0m\n",
      "        }\n",
      "\u001b[0;1;32m        ^\n",
      "\u001b[0m"
     ]
    }
   ],
   "source": [
    "#include <c10/core/ScalarType.h>"
   ]
  },
  {
   "cell_type": "code",
   "execution_count": 40,
   "id": "1fad616c",
   "metadata": {},
   "outputs": [
    {
     "name": "stdout",
     "output_type": "stream",
     "text": [
      "Float\n",
      "8\n",
      "4\n"
     ]
    }
   ],
   "source": [
    "std::cout << c10::ScalarType::Float << std::endl;\n",
    "std::cout << c10::NumScalarTypes << std::endl;\n",
    "std::cout << c10::elementSize(c10::ScalarType::Float) << std::endl;"
   ]
  },
  {
   "cell_type": "code",
   "execution_count": 41,
   "id": "e71056ad",
   "metadata": {},
   "outputs": [],
   "source": [
    "#include <c10/util/typeid.h>"
   ]
  },
  {
   "cell_type": "code",
   "execution_count": 42,
   "id": "f396ec22",
   "metadata": {},
   "outputs": [
    {
     "name": "stdout",
     "output_type": "stream",
     "text": [
      "float\n",
      "float\n",
      "4\n"
     ]
    }
   ],
   "source": [
    "caffe2::TypeMeta float_dtype = caffe2::TypeMeta::Make<float>();\n",
    "std::cout << float_dtype << std::endl;\n",
    "std::cout << float_dtype.name() << std::endl;\n",
    "std::cout << float_dtype.itemsize() << std::endl;"
   ]
  },
  {
   "cell_type": "markdown",
   "id": "ab899549",
   "metadata": {},
   "source": [
    "# 2 create Tensor Impl"
   ]
  },
  {
   "cell_type": "code",
   "execution_count": 43,
   "id": "5474f64d",
   "metadata": {},
   "outputs": [
    {
     "name": "stderr",
     "output_type": "stream",
     "text": [
      "In file included from input_line_49:2:\n",
      "In file included from /home/sz/Documents/workspace/third_party/minitorch/c10/core/TensorImpl.h:6:\n",
      "\u001b[1m/home/sz/Documents/workspace/third_party/minitorch/c10/core/MemoryFormat.h:58:1: \u001b[0m\u001b[0;1;35mwarning: \u001b[0m\u001b[1mcontrol may reach end of non-void function [-Wreturn-type]\u001b[0m\n",
      "}\n",
      "\u001b[0;1;32m^\n",
      "\u001b[0m\u001b[1m/home/sz/Documents/workspace/third_party/minitorch/c10/core/MemoryFormat.h:80:5: \u001b[0m\u001b[0;1;35mwarning: \u001b[0m\u001b[1mcontrol may reach end of non-void function [-Wreturn-type]\u001b[0m\n",
      "    }\n",
      "\u001b[0;1;32m    ^\n",
      "\u001b[0m\u001b[1m/home/sz/Documents/workspace/third_party/minitorch/c10/core/MemoryFormat.h:83:16: \u001b[0m\u001b[0;1;30mnote: \u001b[0min instantiation of function template specialization\n",
      "      'c10::get_channels_last_strides_2d<long>' requested here\u001b[0m\n",
      "        return get_channels_last_strides_2d<int64_t>(sizes);\n",
      "\u001b[0;1;32m               ^\n",
      "\u001b[0m\u001b[1m/home/sz/Documents/workspace/third_party/minitorch/c10/core/MemoryFormat.h:106:5: \u001b[0m\u001b[0;1;35mwarning: \u001b[0m\u001b[1mcontrol may reach end of non-void function [-Wreturn-type]\u001b[0m\n",
      "    }\n",
      "\u001b[0;1;32m    ^\n",
      "\u001b[0m\u001b[1m/home/sz/Documents/workspace/third_party/minitorch/c10/core/MemoryFormat.h:109:16: \u001b[0m\u001b[0;1;30mnote: \u001b[0min instantiation of function template specialization\n",
      "      'c10::get_channels_last_strides_3d<long>' requested here\u001b[0m\n",
      "        return get_channels_last_strides_3d<int64_t>(sizes);\n",
      "\u001b[0;1;32m               ^\n",
      "\u001b[0m"
     ]
    }
   ],
   "source": [
    "#include <c10/util/intrusive_ptr.h>\n",
    "#include <c10/core/TensorImpl.h>"
   ]
  },
  {
   "cell_type": "code",
   "execution_count": 44,
   "id": "7b485b36",
   "metadata": {},
   "outputs": [],
   "source": [
    "std::vector<float> flatted_data_vector1d = {1,2,3,4,5,6,7,8,9,10,11,12,13,14,15,16,17,18};\n",
    "c10::DataPtr data_ptr{};\n",
    "data_ptr = c10::DataPtr{flatted_data_vector1d.data(), device};"
   ]
  },
  {
   "cell_type": "code",
   "execution_count": 45,
   "id": "b5d96fea",
   "metadata": {},
   "outputs": [],
   "source": [
    "// step2: create storage\n",
    "// https://github.com/pytorch/pytorch/blob/master/c10/core/Storage.h\n",
    "std::size_t size_bytes =72;\n",
    "c10::Storage storage{/*use_byte_size*/c10::Storage::use_byte_size_t{}, /*size_bytes*/size_bytes, /*data_ptr*/std::move(data_ptr),nullptr, false};"
   ]
  },
  {
   "cell_type": "code",
   "execution_count": 46,
   "id": "b178ed09",
   "metadata": {},
   "outputs": [
    {
     "name": "stderr",
     "output_type": "stream",
     "text": [
      "\u001b[1minput_line_52:3:25: \u001b[0m\u001b[0;1;35mwarning: \u001b[0m\u001b[1mbraces around scalar initializer [-Wbraced-scalar-init]\u001b[0m\n",
      "c10::DispatchKeySet ks {{k}};\n",
      "\u001b[0;1;32m                        ^~~\n",
      "\u001b[0m"
     ]
    },
    {
     "name": "stdout",
     "output_type": "stream",
     "text": [
      "DispatchKeySet(CPU)\n"
     ]
    }
   ],
   "source": [
    "c10::DispatchKey k = c10::DispatchKey::CPU;\n",
    "c10::DispatchKeySet ks {{k}};\n",
    "std::cout << ks << std::endl;"
   ]
  },
  {
   "cell_type": "code",
   "execution_count": 47,
   "id": "222c1d1b",
   "metadata": {},
   "outputs": [],
   "source": [
    "caffe2::TypeMeta float_dtype = caffe2::TypeMeta::Make<float>();"
   ]
  },
  {
   "cell_type": "code",
   "execution_count": 48,
   "id": "3507e910",
   "metadata": {},
   "outputs": [],
   "source": [
    "/*c10::TensorImpl impl_{std::move(storage),ks, float_dtype};\n",
    "std::cout << impl_.key_set() << std::endl;\n",
    "std::cout << impl_.is_cpu() << std::endl; \n",
    "//std::cout << impl_.device() << std::endl; \n",
    "std::cout << impl_.dtype() << std::endl; \n",
    "std::cout << impl_.itemsize() << std::endl; \n",
    "// currently, these attributes is empty\n",
    "std::cout << impl_.sizes() << std::endl; \n",
    "std::cout << impl_.strides() << std::endl;\n",
    "std::cout << impl_.numel() << std::endl; */"
   ]
  },
  {
   "cell_type": "code",
   "execution_count": 49,
   "id": "9824039c",
   "metadata": {},
   "outputs": [],
   "source": [
    "c10::intrusive_ptr<c10::TensorImpl> impl_ptr = c10::make_intrusive<c10::TensorImpl>(std::move(storage),ks, float_dtype);"
   ]
  },
  {
   "cell_type": "code",
   "execution_count": 50,
   "id": "5dc490b8",
   "metadata": {},
   "outputs": [
    {
     "name": "stdout",
     "output_type": "stream",
     "text": [
      "DispatchKeySet(CPU, ADInplaceOrView, AutogradCPU, AutocastCPU)\n"
     ]
    }
   ],
   "source": [
    "std::cout << impl_ptr ->key_set() << std::endl;"
   ]
  },
  {
   "cell_type": "code",
   "execution_count": 51,
   "id": "7f51fc97",
   "metadata": {},
   "outputs": [
    {
     "name": "stdout",
     "output_type": "stream",
     "text": [
      "float\n"
     ]
    }
   ],
   "source": [
    "std::cout << impl_ptr->dtype() << std::endl; "
   ]
  },
  {
   "cell_type": "code",
   "execution_count": 52,
   "id": "2e8c85ca",
   "metadata": {},
   "outputs": [
    {
     "name": "stdout",
     "output_type": "stream",
     "text": [
      "0\n",
      "[0]\n",
      "[1]\n",
      "0\n"
     ]
    }
   ],
   "source": [
    "std::cout << impl_ptr->is_inference() << std::endl; \n",
    "std::cout << impl_ptr->sizes() << std::endl; \n",
    "std::cout << impl_ptr->strides() << std::endl;\n",
    "std::cout << impl_ptr->numel() << std::endl;"
   ]
  },
  {
   "cell_type": "markdown",
   "id": "89ae1dba",
   "metadata": {},
   "source": [
    "# 3 create Tensor"
   ]
  },
  {
   "cell_type": "code",
   "execution_count": 53,
   "id": "76b99c13",
   "metadata": {},
   "outputs": [],
   "source": [
    "c10::IntArrayRef target_size{{3,6}};"
   ]
  },
  {
   "cell_type": "code",
   "execution_count": 54,
   "id": "63c4686a",
   "metadata": {},
   "outputs": [],
   "source": [
    "impl_ptr->set_sizes_contiguous(target_size);"
   ]
  },
  {
   "cell_type": "code",
   "execution_count": 55,
   "id": "a2187b0a",
   "metadata": {},
   "outputs": [
    {
     "name": "stdout",
     "output_type": "stream",
     "text": [
      "0\n",
      "[3, 6]\n",
      "[6, 1]\n",
      "18\n"
     ]
    }
   ],
   "source": [
    "std::cout << impl_ptr->is_inference() << std::endl; \n",
    "std::cout << impl_ptr->sizes() << std::endl; \n",
    "std::cout << impl_ptr->strides() << std::endl;\n",
    "std::cout << impl_ptr->numel() << std::endl;"
   ]
  },
  {
   "cell_type": "code",
   "execution_count": 56,
   "id": "f9e45a51",
   "metadata": {},
   "outputs": [
    {
     "name": "stdout",
     "output_type": "stream",
     "text": [
      "1\n"
     ]
    }
   ],
   "source": [
    "std::cout << impl_ptr << std::endl;"
   ]
  },
  {
   "cell_type": "code",
   "execution_count": null,
   "id": "c48358fa",
   "metadata": {},
   "outputs": [],
   "source": []
  }
 ],
 "metadata": {
  "kernelspec": {
   "display_name": "C++17",
   "language": "C++17",
   "name": "xcpp17"
  },
  "language_info": {
   "codemirror_mode": "text/x-c++src",
   "file_extension": ".cpp",
   "mimetype": "text/x-c++src",
   "name": "c++",
   "version": "17"
  }
 },
 "nbformat": 4,
 "nbformat_minor": 5
}
