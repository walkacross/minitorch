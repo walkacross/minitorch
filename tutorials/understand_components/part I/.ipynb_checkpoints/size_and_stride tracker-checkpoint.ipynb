{
 "cells": [
  {
   "cell_type": "code",
   "execution_count": 1,
   "id": "973ba1ea",
   "metadata": {},
   "outputs": [],
   "source": [
    "#pragma cling add_include_path(\"/home/sz/Documents/workspace/third_party/minitorch\")\n",
    "#pragma cling add_library_path(\"/home/sz/Documents/workspace/third_party/minitorch/build/c10\")\n",
    "#pragma cling load(\"c10\")"
   ]
  },
  {
   "cell_type": "code",
   "execution_count": 2,
   "id": "d27a43f3",
   "metadata": {},
   "outputs": [],
   "source": [
    "#include <c10/util/ArrayRef.h>\n",
    "#include <c10/core/impl/SizesAndStrides.h>"
   ]
  },
  {
   "cell_type": "code",
   "execution_count": 3,
   "id": "dbd623a5",
   "metadata": {},
   "outputs": [],
   "source": [
    "#include <vector>"
   ]
  },
  {
   "cell_type": "markdown",
   "id": "11367759",
   "metadata": {},
   "source": [
    "## 1 size ArrayRef"
   ]
  },
  {
   "cell_type": "code",
   "execution_count": 12,
   "id": "f32f1fa3",
   "metadata": {},
   "outputs": [
    {
     "name": "stdout",
     "output_type": "stream",
     "text": [
      "[2, 3, 4]\n"
     ]
    }
   ],
   "source": [
    "std::vector<int64_t> size_vector = {2,3,4};\n",
    "c10::ArrayRef<int64_t> size_array_ref{size_vector};\n",
    "std::cout << size_array_ref << std::endl;"
   ]
  },
  {
   "cell_type": "code",
   "execution_count": 13,
   "id": "2f611262",
   "metadata": {},
   "outputs": [
    {
     "name": "stdout",
     "output_type": "stream",
     "text": [
      "0x563a1b319ec0\n"
     ]
    }
   ],
   "source": [
    "const int64_t* data_ptr = size_array_ref.data();\n",
    "std::cout << data_ptr << std::endl;"
   ]
  },
  {
   "cell_type": "code",
   "execution_count": 14,
   "id": "d6ef4c83",
   "metadata": {},
   "outputs": [
    {
     "name": "stdout",
     "output_type": "stream",
     "text": [
      "3\n"
     ]
    }
   ],
   "source": [
    "int size = size_array_ref.size();\n",
    "std::cout << size << std::endl;"
   ]
  },
  {
   "cell_type": "code",
   "execution_count": 15,
   "id": "a4ea73b4",
   "metadata": {},
   "outputs": [
    {
     "name": "stdout",
     "output_type": "stream",
     "text": [
      "2\n",
      "4\n"
     ]
    }
   ],
   "source": [
    "std::cout << size_array_ref.front() << std::endl;\n",
    "std::cout << size_array_ref.back() << std::endl;"
   ]
  },
  {
   "cell_type": "markdown",
   "id": "4263a03b",
   "metadata": {},
   "source": [
    "# 2 stride ArrayRef"
   ]
  },
  {
   "cell_type": "code",
   "execution_count": 17,
   "id": "71aa75e1",
   "metadata": {},
   "outputs": [
    {
     "name": "stdout",
     "output_type": "stream",
     "text": [
      "[4, 1]\n"
     ]
    }
   ],
   "source": [
    "std::vector<int64_t> stride_vector = {4,1};\n",
    "c10::ArrayRef<int64_t> stride_array_ref{stride_vector};\n",
    "std::cout << stride_array_ref << std::endl;"
   ]
  },
  {
   "cell_type": "code",
   "execution_count": 18,
   "id": "e3a800c4",
   "metadata": {},
   "outputs": [
    {
     "name": "stdout",
     "output_type": "stream",
     "text": [
      "2\n"
     ]
    }
   ],
   "source": [
    "int stride_size = stride_array_ref.size();\n",
    "std::cout << stride_size << std::endl;"
   ]
  },
  {
   "cell_type": "markdown",
   "id": "69f6fb22",
   "metadata": {},
   "source": [
    "# 3 c10::impl::SizesAndStrides"
   ]
  },
  {
   "cell_type": "code",
   "execution_count": 20,
   "id": "360c7e39",
   "metadata": {},
   "outputs": [],
   "source": [
    "c10::impl::SizesAndStrides sizes_and_strides;"
   ]
  },
  {
   "cell_type": "code",
   "execution_count": 21,
   "id": "a7addc6a",
   "metadata": {},
   "outputs": [
    {
     "name": "stdout",
     "output_type": "stream",
     "text": [
      "1\n"
     ]
    }
   ],
   "source": [
    "std::cout << sizes_and_strides.size() << std::endl;"
   ]
  },
  {
   "cell_type": "code",
   "execution_count": 22,
   "id": "2a1f1135",
   "metadata": {},
   "outputs": [],
   "source": [
    "sizes_and_strides.set_sizes(/*c10::IntArrayRef=*/size_array_ref);"
   ]
  },
  {
   "cell_type": "code",
   "execution_count": 23,
   "id": "fab048b2",
   "metadata": {},
   "outputs": [
    {
     "name": "stdout",
     "output_type": "stream",
     "text": [
      "3\n"
     ]
    }
   ],
   "source": [
    "std::cout << sizes_and_strides.size() << std::endl;"
   ]
  },
  {
   "cell_type": "code",
   "execution_count": 24,
   "id": "963f8f94",
   "metadata": {},
   "outputs": [],
   "source": [
    "sizes_and_strides.set_strides(/*c10::IntArrayRef=*/stride_array_ref);"
   ]
  },
  {
   "cell_type": "code",
   "execution_count": 25,
   "id": "dc0c16db",
   "metadata": {},
   "outputs": [
    {
     "name": "stdout",
     "output_type": "stream",
     "text": [
      "3\n"
     ]
    }
   ],
   "source": [
    "std::cout << sizes_and_strides.size() << std::endl;"
   ]
  },
  {
   "cell_type": "markdown",
   "id": "a3d0a6e6",
   "metadata": {},
   "source": [
    "# 4 get c10::ArrayRef from SizesAndStrides"
   ]
  },
  {
   "cell_type": "code",
   "execution_count": 29,
   "id": "a022f000",
   "metadata": {},
   "outputs": [
    {
     "name": "stdout",
     "output_type": "stream",
     "text": [
      "[2, 3, 4]\n"
     ]
    }
   ],
   "source": [
    "c10::ArrayRef<int64_t> returned_size_array_ref = sizes_and_strides.sizes_arrayref();\n",
    "std::cout << returned_size_array_ref << std::endl;"
   ]
  },
  {
   "cell_type": "code",
   "execution_count": 30,
   "id": "eaa422b7",
   "metadata": {},
   "outputs": [
    {
     "name": "stdout",
     "output_type": "stream",
     "text": [
      "[4, 1, 0]\n"
     ]
    }
   ],
   "source": [
    "c10::ArrayRef<int64_t> returned_stride_array_ref = sizes_and_strides.strides_arrayref();\n",
    "std::cout << returned_stride_array_ref << std::endl;"
   ]
  }
 ],
 "metadata": {
  "kernelspec": {
   "display_name": "C++17",
   "language": "C++17",
   "name": "xcpp17"
  },
  "language_info": {
   "codemirror_mode": "text/x-c++src",
   "file_extension": ".cpp",
   "mimetype": "text/x-c++src",
   "name": "c++",
   "version": "17"
  }
 },
 "nbformat": 4,
 "nbformat_minor": 5
}
