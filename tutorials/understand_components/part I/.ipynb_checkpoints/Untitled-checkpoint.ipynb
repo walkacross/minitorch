{
 "cells": [
  {
   "cell_type": "code",
   "execution_count": 1,
   "id": "5dd2a318",
   "metadata": {},
   "outputs": [],
   "source": [
    "#pragma cling add_include_path(\"/home/sz/Documents/workspace/third_party/minitorch\")\n",
    "#pragma cling add_library_path(\"/home/sz/Documents/workspace/third_party/minitorch/build/c10\")\n",
    "#pragma cling load(\"c10\")"
   ]
  },
  {
   "cell_type": "code",
   "execution_count": 2,
   "id": "5b128352",
   "metadata": {},
   "outputs": [],
   "source": [
    "#include <c10/util/UniqueVoidPtr.h>"
   ]
  },
  {
   "cell_type": "code",
   "execution_count": 3,
   "id": "3bf84c18",
   "metadata": {},
   "outputs": [],
   "source": [
    "#include <c10/core/Device.h>"
   ]
  },
  {
   "cell_type": "code",
   "execution_count": 4,
   "id": "543781e9",
   "metadata": {},
   "outputs": [],
   "source": [
    "#include <c10/core/Allocator.h>"
   ]
  },
  {
   "cell_type": "code",
   "execution_count": 5,
   "id": "9c56de4a",
   "metadata": {},
   "outputs": [],
   "source": [
    "#include <vector>\n",
    "#include <iostream>"
   ]
  },
  {
   "cell_type": "markdown",
   "id": "322dbc28",
   "metadata": {},
   "source": [
    "## 1 create c10::DataPtr"
   ]
  },
  {
   "cell_type": "code",
   "execution_count": 6,
   "id": "b18e39ef",
   "metadata": {},
   "outputs": [
    {
     "name": "stdout",
     "output_type": "stream",
     "text": [
      "cpu\n"
     ]
    }
   ],
   "source": [
    "std::cout << c10::DeviceType::CPU << std::endl;"
   ]
  },
  {
   "cell_type": "code",
   "execution_count": 7,
   "id": "3a0d99a9",
   "metadata": {},
   "outputs": [],
   "source": [
    "c10:: Device device{c10::DeviceType::CPU};\n",
    "//std::cout << device << std::endl;"
   ]
  },
  {
   "cell_type": "code",
   "execution_count": 8,
   "id": "ede8f7e5",
   "metadata": {},
   "outputs": [],
   "source": [
    "std::vector<float> flatted_data_vector1d = {1,2,3,4,5,6,7,8,9,10,11,12,13,14,15,16,17,18};"
   ]
  },
  {
   "cell_type": "code",
   "execution_count": 9,
   "id": "69d826c9",
   "metadata": {},
   "outputs": [
    {
     "name": "stdout",
     "output_type": "stream",
     "text": [
      "0x55804db446f0\n"
     ]
    }
   ],
   "source": [
    "float* float_ptr = flatted_data_vector1d.data();\n",
    "std::cout << float_ptr << std::endl;"
   ]
  },
  {
   "cell_type": "code",
   "execution_count": 10,
   "id": "2978a3d5",
   "metadata": {},
   "outputs": [],
   "source": [
    "c10::DataPtr data_ptr{};\n",
    "data_ptr = c10::DataPtr{flatted_data_vector1d.data(), device};"
   ]
  },
  {
   "cell_type": "code",
   "execution_count": 11,
   "id": "54b50504",
   "metadata": {},
   "outputs": [
    {
     "name": "stdout",
     "output_type": "stream",
     "text": [
      "cpu\n",
      "0x55804db446f0\n"
     ]
    }
   ],
   "source": [
    "std::cout << data_ptr.device().type() << std::endl;\n",
    "std::cout << data_ptr.get() << std::endl;"
   ]
  },
  {
   "cell_type": "markdown",
   "id": "a8ca06a1",
   "metadata": {},
   "source": [
    "## 2 create storage"
   ]
  },
  {
   "cell_type": "code",
   "execution_count": 12,
   "id": "f450d9d3",
   "metadata": {},
   "outputs": [
    {
     "name": "stderr",
     "output_type": "stream",
     "text": [
      "In file included from input_line_18:1:\n",
      "In file included from /home/sz/Documents/workspace/third_party/minitorch/c10/core/SymInt.h:3:\n",
      "\u001b[1m/home/sz/Documents/workspace/third_party/minitorch/c10/core/SymNodeImpl.h:26:5: \u001b[0m\u001b[0;1;31merror: \u001b[0m\u001b[1mcontrol reaches end of non-void function [-Werror,-Wreturn-type]\u001b[0m\n",
      "    }\n",
      "\u001b[0;1;32m    ^\n",
      "\u001b[0m\u001b[1m/home/sz/Documents/workspace/third_party/minitorch/c10/core/SymNodeImpl.h:28:5: \u001b[0m\u001b[0;1;31merror: \u001b[0m\u001b[1mcontrol reaches end of non-void function [-Werror,-Wreturn-type]\u001b[0m\n",
      "    };\n",
      "\u001b[0;1;32m    ^\n",
      "\u001b[0m\u001b[1m/home/sz/Documents/workspace/third_party/minitorch/c10/core/SymNodeImpl.h:30:5: \u001b[0m\u001b[0;1;31merror: \u001b[0m\u001b[1mcontrol reaches end of non-void function [-Werror,-Wreturn-type]\u001b[0m\n",
      "    };\n",
      "\u001b[0;1;32m    ^\n",
      "\u001b[0m\u001b[1m/home/sz/Documents/workspace/third_party/minitorch/c10/core/SymNodeImpl.h:32:5: \u001b[0m\u001b[0;1;31merror: \u001b[0m\u001b[1mcontrol reaches end of non-void function [-Werror,-Wreturn-type]\u001b[0m\n",
      "    };\n",
      "\u001b[0;1;32m    ^\n",
      "\u001b[0m\u001b[1m/home/sz/Documents/workspace/third_party/minitorch/c10/core/SymNodeImpl.h:34:5: \u001b[0m\u001b[0;1;31merror: \u001b[0m\u001b[1mcontrol reaches end of non-void function [-Werror,-Wreturn-type]\u001b[0m\n",
      "    };\n",
      "\u001b[0;1;32m    ^\n",
      "\u001b[0m\u001b[1m/home/sz/Documents/workspace/third_party/minitorch/c10/core/SymNodeImpl.h:36:5: \u001b[0m\u001b[0;1;31merror: \u001b[0m\u001b[1mcontrol reaches end of non-void function [-Werror,-Wreturn-type]\u001b[0m\n",
      "    };\n",
      "\u001b[0;1;32m    ^\n",
      "\u001b[0m\u001b[1m/home/sz/Documents/workspace/third_party/minitorch/c10/core/SymNodeImpl.h:38:5: \u001b[0m\u001b[0;1;31merror: \u001b[0m\u001b[1mcontrol reaches end of non-void function [-Werror,-Wreturn-type]\u001b[0m\n",
      "    };\n",
      "\u001b[0;1;32m    ^\n",
      "\u001b[0m\u001b[1m/home/sz/Documents/workspace/third_party/minitorch/c10/core/SymNodeImpl.h:40:5: \u001b[0m\u001b[0;1;31merror: \u001b[0m\u001b[1mcontrol reaches end of non-void function [-Werror,-Wreturn-type]\u001b[0m\n",
      "    };\n",
      "\u001b[0;1;32m    ^\n",
      "\u001b[0m\u001b[1m/home/sz/Documents/workspace/third_party/minitorch/c10/core/SymNodeImpl.h:42:5: \u001b[0m\u001b[0;1;31merror: \u001b[0m\u001b[1mcontrol reaches end of non-void function [-Werror,-Wreturn-type]\u001b[0m\n",
      "    };\n",
      "\u001b[0;1;32m    ^\n",
      "\u001b[0m\u001b[1m/home/sz/Documents/workspace/third_party/minitorch/c10/core/SymNodeImpl.h:44:5: \u001b[0m\u001b[0;1;31merror: \u001b[0m\u001b[1mcontrol reaches end of non-void function [-Werror,-Wreturn-type]\u001b[0m\n",
      "    };\n",
      "\u001b[0;1;32m    ^\n",
      "\u001b[0m\u001b[1m/home/sz/Documents/workspace/third_party/minitorch/c10/core/SymNodeImpl.h:46:5: \u001b[0m\u001b[0;1;31merror: \u001b[0m\u001b[1mcontrol reaches end of non-void function [-Werror,-Wreturn-type]\u001b[0m\n",
      "    };\n",
      "\u001b[0;1;32m    ^\n",
      "\u001b[0m\u001b[1m/home/sz/Documents/workspace/third_party/minitorch/c10/core/SymNodeImpl.h:48:5: \u001b[0m\u001b[0;1;31merror: \u001b[0m\u001b[1mcontrol reaches end of non-void function [-Werror,-Wreturn-type]\u001b[0m\n",
      "    };\n",
      "\u001b[0;1;32m    ^\n",
      "\u001b[0m\u001b[1m/home/sz/Documents/workspace/third_party/minitorch/c10/core/SymNodeImpl.h:50:5: \u001b[0m\u001b[0;1;31merror: \u001b[0m\u001b[1mcontrol reaches end of non-void function [-Werror,-Wreturn-type]\u001b[0m\n",
      "    };\n",
      "\u001b[0;1;32m    ^\n",
      "\u001b[0m\u001b[1m/home/sz/Documents/workspace/third_party/minitorch/c10/core/SymNodeImpl.h:52:5: \u001b[0m\u001b[0;1;31merror: \u001b[0m\u001b[1mcontrol reaches end of non-void function [-Werror,-Wreturn-type]\u001b[0m\n",
      "    };\n",
      "\u001b[0;1;32m    ^\n",
      "\u001b[0m\u001b[1m/home/sz/Documents/workspace/third_party/minitorch/c10/core/SymNodeImpl.h:54:5: \u001b[0m\u001b[0;1;31merror: \u001b[0m\u001b[1mcontrol reaches end of non-void function [-Werror,-Wreturn-type]\u001b[0m\n",
      "    };\n",
      "\u001b[0;1;32m    ^\n",
      "\u001b[0m\u001b[1m/home/sz/Documents/workspace/third_party/minitorch/c10/core/SymNodeImpl.h:56:5: \u001b[0m\u001b[0;1;31merror: \u001b[0m\u001b[1mcontrol reaches end of non-void function [-Werror,-Wreturn-type]\u001b[0m\n",
      "    }\n",
      "\u001b[0;1;32m    ^\n",
      "\u001b[0m\u001b[1m/home/sz/Documents/workspace/third_party/minitorch/c10/core/SymNodeImpl.h:58:5: \u001b[0m\u001b[0;1;31merror: \u001b[0m\u001b[1mcontrol reaches end of non-void function [-Werror,-Wreturn-type]\u001b[0m\n",
      "    }\n",
      "\u001b[0;1;32m    ^\n",
      "\u001b[0m\u001b[1m/home/sz/Documents/workspace/third_party/minitorch/c10/core/SymNodeImpl.h:60:5: \u001b[0m\u001b[0;1;31merror: \u001b[0m\u001b[1mcontrol reaches end of non-void function [-Werror,-Wreturn-type]\u001b[0m\n",
      "    }\n",
      "\u001b[0;1;32m    ^\n",
      "\u001b[0m\u001b[1m/home/sz/Documents/workspace/third_party/minitorch/c10/core/SymNodeImpl.h:62:5: \u001b[0m\u001b[0;1;31merror: \u001b[0m\u001b[1mcontrol reaches end of non-void function [-Werror,-Wreturn-type]\u001b[0m\n",
      "    }\n",
      "\u001b[0;1;32m    ^\n",
      "\u001b[0m\u001b[1m/home/sz/Documents/workspace/third_party/minitorch/c10/core/SymNodeImpl.h:64:5: \u001b[0m\u001b[0;1;31merror: \u001b[0m\u001b[1mcontrol reaches end of non-void function [-Werror,-Wreturn-type]\u001b[0m\n",
      "    }\n",
      "\u001b[0;1;32m    ^\n",
      "\u001b[0m\u001b[1m/home/sz/Documents/workspace/third_party/minitorch/c10/core/SymNodeImpl.h:66:5: \u001b[0m\u001b[0;1;31merror: \u001b[0m\u001b[1mcontrol reaches end of non-void function [-Werror,-Wreturn-type]\u001b[0m\n",
      "    }\n",
      "\u001b[0;1;32m    ^\n",
      "\u001b[0m\u001b[1m/home/sz/Documents/workspace/third_party/minitorch/c10/core/SymNodeImpl.h:68:5: \u001b[0m\u001b[0;1;31merror: \u001b[0m\u001b[1mcontrol reaches end of non-void function [-Werror,-Wreturn-type]\u001b[0m\n",
      "    }\n",
      "\u001b[0;1;32m    ^\n",
      "\u001b[0m\u001b[1m/home/sz/Documents/workspace/third_party/minitorch/c10/core/SymNodeImpl.h:70:5: \u001b[0m\u001b[0;1;31merror: \u001b[0m\u001b[1mcontrol reaches end of non-void function [-Werror,-Wreturn-type]\u001b[0m\n",
      "    }\n",
      "\u001b[0;1;32m    ^\n",
      "\u001b[0m\u001b[1m/home/sz/Documents/workspace/third_party/minitorch/c10/core/SymNodeImpl.h:72:5: \u001b[0m\u001b[0;1;31merror: \u001b[0m\u001b[1mcontrol reaches end of non-void function [-Werror,-Wreturn-type]\u001b[0m\n",
      "    }\n",
      "\u001b[0;1;32m    ^\n",
      "\u001b[0m\u001b[1m/home/sz/Documents/workspace/third_party/minitorch/c10/core/SymNodeImpl.h:74:5: \u001b[0m\u001b[0;1;31merror: \u001b[0m\u001b[1mcontrol reaches end of non-void function [-Werror,-Wreturn-type]\u001b[0m\n",
      "    }\n",
      "\u001b[0;1;32m    ^\n",
      "\u001b[0m\u001b[1m/home/sz/Documents/workspace/third_party/minitorch/c10/core/SymNodeImpl.h:76:5: \u001b[0m\u001b[0;1;31merror: \u001b[0m\u001b[1mcontrol reaches end of non-void function [-Werror,-Wreturn-type]\u001b[0m\n",
      "    }\n",
      "\u001b[0;1;32m    ^\n",
      "\u001b[0m\u001b[1m/home/sz/Documents/workspace/third_party/minitorch/c10/core/SymNodeImpl.h:78:5: \u001b[0m\u001b[0;1;31merror: \u001b[0m\u001b[1mcontrol reaches end of non-void function [-Werror,-Wreturn-type]\u001b[0m\n",
      "    }\n",
      "\u001b[0;1;32m    ^\n",
      "\u001b[0m\u001b[1m/home/sz/Documents/workspace/third_party/minitorch/c10/core/SymNodeImpl.h:80:5: \u001b[0m\u001b[0;1;31merror: \u001b[0m\u001b[1mcontrol reaches end of non-void function [-Werror,-Wreturn-type]\u001b[0m\n",
      "    }\n",
      "\u001b[0;1;32m    ^\n",
      "\u001b[0m\u001b[1m/home/sz/Documents/workspace/third_party/minitorch/c10/core/SymNodeImpl.h:82:5: \u001b[0m\u001b[0;1;31merror: \u001b[0m\u001b[1mcontrol reaches end of non-void function [-Werror,-Wreturn-type]\u001b[0m\n",
      "    }\n",
      "\u001b[0;1;32m    ^\n",
      "\u001b[0m"
     ]
    }
   ],
   "source": [
    "#include <c10/core/SymInt.h>\n",
    "#include <c10/core/Storage.h>"
   ]
  },
  {
   "cell_type": "code",
   "execution_count": 13,
   "id": "6d5c132b",
   "metadata": {},
   "outputs": [
    {
     "name": "stdout",
     "output_type": "stream",
     "text": [
      "hello\n"
     ]
    }
   ],
   "source": [
    "std::cout << \"hello\" << std::endl;"
   ]
  },
  {
   "cell_type": "code",
   "execution_count": 16,
   "id": "5fdabb83",
   "metadata": {},
   "outputs": [],
   "source": [
    "//c10::SymInt size_bytes{72};\n",
    "std::size_t size_bytes =72;"
   ]
  },
  {
   "cell_type": "code",
   "execution_count": 17,
   "id": "514cb974",
   "metadata": {},
   "outputs": [],
   "source": [
    "// step2: create storage\n",
    "// https://github.com/pytorch/pytorch/blob/master/c10/core/Storage.h\n",
    "c10::Storage storage{/*use_byte_size*/c10::Storage::use_byte_size_t{}, /*size_bytes*/size_bytes, /*data_ptr*/std::move(data_ptr),nullptr, false};"
   ]
  },
  {
   "cell_type": "code",
   "execution_count": 18,
   "id": "4dfd63b5",
   "metadata": {},
   "outputs": [
    {
     "name": "stdout",
     "output_type": "stream",
     "text": [
      "72\n"
     ]
    }
   ],
   "source": [
    "std::cout << storage.nbytes() << std::endl;"
   ]
  },
  {
   "cell_type": "code",
   "execution_count": null,
   "id": "0654e056",
   "metadata": {},
   "outputs": [],
   "source": []
  }
 ],
 "metadata": {
  "kernelspec": {
   "display_name": "C++17",
   "language": "C++17",
   "name": "xcpp17"
  },
  "language_info": {
   "codemirror_mode": "text/x-c++src",
   "file_extension": ".cpp",
   "mimetype": "text/x-c++src",
   "name": "c++",
   "version": "17"
  }
 },
 "nbformat": 4,
 "nbformat_minor": 5
}
