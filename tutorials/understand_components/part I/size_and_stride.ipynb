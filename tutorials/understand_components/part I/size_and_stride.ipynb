{
 "cells": [
  {
   "cell_type": "code",
   "execution_count": 1,
   "id": "14fd9d98",
   "metadata": {},
   "outputs": [],
   "source": [
    "#pragma cling add_include_path(\"/home/sz/Documents/workspace/third_party/minitorch\")\n",
    "#pragma cling add_library_path(\"/home/sz/Documents/workspace/third_party/minitorch/build/c10\")\n",
    "#pragma cling load(\"c10\")"
   ]
  },
  {
   "cell_type": "code",
   "execution_count": 2,
   "id": "da35bf21",
   "metadata": {},
   "outputs": [],
   "source": [
    "#include <c10/util/ArrayRef.h>\n",
    "#include <c10/core/impl/SizesAndStrides.h>"
   ]
  },
  {
   "cell_type": "code",
   "execution_count": 3,
   "id": "eafa8118",
   "metadata": {},
   "outputs": [],
   "source": [
    "#include <vector>"
   ]
  },
  {
   "cell_type": "code",
   "execution_count": 4,
   "id": "935e8f11",
   "metadata": {},
   "outputs": [
    {
     "name": "stdout",
     "output_type": "stream",
     "text": [
      "[2, 3, 4]\n"
     ]
    }
   ],
   "source": [
    "std::vector<int64_t> a_vector = {2,3,4};\n",
    "c10::ArrayRef<int64_t> array_ref{a_vector};\n",
    "std::cout << array_ref << std::endl;"
   ]
  },
  {
   "cell_type": "code",
   "execution_count": 5,
   "id": "cf91f9e4",
   "metadata": {},
   "outputs": [
    {
     "name": "stdout",
     "output_type": "stream",
     "text": [
      "0x563a1a680700\n"
     ]
    }
   ],
   "source": [
    "const int64_t* data_ptr = array_ref.data();\n",
    "std::cout << data_ptr << std::endl;"
   ]
  },
  {
   "cell_type": "code",
   "execution_count": 6,
   "id": "2aa58995",
   "metadata": {},
   "outputs": [
    {
     "name": "stdout",
     "output_type": "stream",
     "text": [
      "3\n"
     ]
    }
   ],
   "source": [
    "int size = array_ref.size();\n",
    "std::cout << size << std::endl;"
   ]
  },
  {
   "cell_type": "code",
   "execution_count": 7,
   "id": "9d118a7a",
   "metadata": {},
   "outputs": [
    {
     "name": "stdout",
     "output_type": "stream",
     "text": [
      "2\n",
      "4\n"
     ]
    }
   ],
   "source": [
    "std::cout << array_ref.front() << std::endl;\n",
    "std::cout << array_ref.back() << std::endl;"
   ]
  },
  {
   "cell_type": "code",
   "execution_count": 8,
   "id": "7f73706c",
   "metadata": {},
   "outputs": [],
   "source": [
    "c10::impl::SizesAndStrides sizes_and_strides;"
   ]
  },
  {
   "cell_type": "code",
   "execution_count": 9,
   "id": "a8de5423",
   "metadata": {},
   "outputs": [
    {
     "name": "stdout",
     "output_type": "stream",
     "text": [
      "1\n"
     ]
    }
   ],
   "source": [
    "std::cout << sizes_and_strides.size() << std::endl;"
   ]
  },
  {
   "cell_type": "code",
   "execution_count": 10,
   "id": "42f12cc3",
   "metadata": {},
   "outputs": [],
   "source": [
    "sizes_and_strides.set_sizes(/*c10::IntArrayRef=*/array_ref);"
   ]
  },
  {
   "cell_type": "code",
   "execution_count": 11,
   "id": "5f9c5ce0",
   "metadata": {},
   "outputs": [
    {
     "name": "stdout",
     "output_type": "stream",
     "text": [
      "3\n"
     ]
    }
   ],
   "source": [
    "std::cout << sizes_and_strides.size() << std::endl;"
   ]
  },
  {
   "cell_type": "code",
   "execution_count": null,
   "id": "32c01a5d",
   "metadata": {},
   "outputs": [],
   "source": []
  }
 ],
 "metadata": {
  "kernelspec": {
   "display_name": "C++17",
   "language": "C++17",
   "name": "xcpp17"
  },
  "language_info": {
   "codemirror_mode": "text/x-c++src",
   "file_extension": ".cpp",
   "mimetype": "text/x-c++src",
   "name": "c++",
   "version": "17"
  }
 },
 "nbformat": 4,
 "nbformat_minor": 5
}
